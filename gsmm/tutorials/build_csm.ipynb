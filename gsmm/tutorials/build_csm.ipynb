{
 "cells": [
  {
   "cell_type": "markdown",
   "metadata": {},
   "source": [
    "# Building Context Specific Metabolic Models"
   ]
  },
  {
   "cell_type": "markdown",
   "metadata": {},
   "source": [
    "This notebook can be downloaded from [this link](https://github.com/KarthikDani/PHCCOProject/blob/main/gsmm/tutorials/build_csm.ipynb)\n",
    "\n",
    "- `run_model_reconstruction` from `gsmm.csm.build_csm`: Used for running the model reconstruction pipeline.\n",
    "- `cobra`: A package for constraint-based reconstruction and analysis."
   ]
  },
  {
   "cell_type": "code",
   "execution_count": 1,
   "metadata": {},
   "outputs": [],
   "source": [
    "from gsmm.csm.build_csm import run_model_reconstruction\n",
    "\n",
    "import cobra\n",
    "import pandas as pd"
   ]
  },
  {
   "cell_type": "markdown",
   "metadata": {},
   "source": [
    "### Load expression data\n",
    "\n",
    "For example, let's an EMT expression data to follow along this tutorial\n",
    "- `emt_expression_data_path`: Path to the CSV file containing the EMT expression data.\n",
    "- `emt_expression_data`: DataFrame holding the loaded EMT expression data."
   ]
  },
  {
   "cell_type": "code",
   "execution_count": 4,
   "metadata": {},
   "outputs": [
    {
     "data": {
      "text/html": [
       "<div>\n",
       "<style scoped>\n",
       "    .dataframe tbody tr th:only-of-type {\n",
       "        vertical-align: middle;\n",
       "    }\n",
       "\n",
       "    .dataframe tbody tr th {\n",
       "        vertical-align: top;\n",
       "    }\n",
       "\n",
       "    .dataframe thead th {\n",
       "        text-align: right;\n",
       "    }\n",
       "</style>\n",
       "<table border=\"1\" class=\"dataframe\">\n",
       "  <thead>\n",
       "    <tr style=\"text-align: right;\">\n",
       "      <th></th>\n",
       "      <th>Gene_ID</th>\n",
       "      <th>Mesenchymal</th>\n",
       "      <th>Epithelial</th>\n",
       "    </tr>\n",
       "  </thead>\n",
       "  <tbody>\n",
       "    <tr>\n",
       "      <th>0</th>\n",
       "      <td>2978_AT1</td>\n",
       "      <td>1.590799</td>\n",
       "      <td>-7.624877</td>\n",
       "    </tr>\n",
       "    <tr>\n",
       "      <th>1</th>\n",
       "      <td>1571_AT1</td>\n",
       "      <td>6.046029</td>\n",
       "      <td>3.480441</td>\n",
       "    </tr>\n",
       "    <tr>\n",
       "      <th>2</th>\n",
       "      <td>1549_AT1</td>\n",
       "      <td>2.358338</td>\n",
       "      <td>3.101581</td>\n",
       "    </tr>\n",
       "    <tr>\n",
       "      <th>3</th>\n",
       "      <td>1548_AT1</td>\n",
       "      <td>2.358338</td>\n",
       "      <td>3.101581</td>\n",
       "    </tr>\n",
       "    <tr>\n",
       "      <th>4</th>\n",
       "      <td>949_AT1</td>\n",
       "      <td>8.881953</td>\n",
       "      <td>8.613039</td>\n",
       "    </tr>\n",
       "  </tbody>\n",
       "</table>\n",
       "</div>"
      ],
      "text/plain": [
       "    Gene_ID  Mesenchymal  Epithelial\n",
       "0  2978_AT1     1.590799   -7.624877\n",
       "1  1571_AT1     6.046029    3.480441\n",
       "2  1549_AT1     2.358338    3.101581\n",
       "3  1548_AT1     2.358338    3.101581\n",
       "4   949_AT1     8.881953    8.613039"
      ]
     },
     "execution_count": 4,
     "metadata": {},
     "output_type": "execute_result"
    }
   ],
   "source": [
    "emt_expression_data_path = \"../../Data/InputData/EMT_FINAL_DATA.csv\"\n",
    "emt_expression_data = pd.read_csv(emt_expression_data_path)\n",
    "emt_expression_data.head()"
   ]
  },
  {
   "cell_type": "markdown",
   "metadata": {},
   "source": [
    "### Load Recon3D model from the web\n",
    "\n",
    "- `recon_model`: The Recon3D model loaded from a web source using COBRApy.\n",
    "\n",
    "This step loads the Recon3D model, a comprehensive genome-scale metabolic model. Recon3D integrates metabolic data from various human tissues and is widely used for studying human metabolism."
   ]
  },
  {
   "cell_type": "markdown",
   "metadata": {},
   "source": [
    "### Structure of a COBRApy SBML Model\n",
    "\n",
    "![Cobrapy Model Structure](cobrapy_model_structure.png)\n",
    "\n",
    "In COBRApy, a SBML model is structured as follows:\n",
    "\n",
    "- `Model`: The core object representing the metabolic model. It contains several attributes and methods to manipulate and analyze the model.\n",
    "   - **Attributes**:\n",
    "     - `reactions`: A list of `Reaction` objects representing the biochemical reactions in the model.\n",
    "     - `metabolites`: A list of `Metabolite` objects representing the metabolites in the model.\n",
    "     - `genes`: A list of `Gene` objects representing the genes associated with the reactions.\n",
    "     - `objective`: The objective function of the model, typically used in flux balance analysis (FBA).\n",
    "     - `id`: A unique identifier for the model.\n",
    "     - `name`: A descriptive name for the model.\n",
    "   - **Methods**:\n",
    "     - `optimize()`: Performs flux balance analysis to optimize the objective function.\n",
    "     - `summary()`: Provides a summary of the model, including the number of reactions, metabolites, and genes.\n",
    "\n",
    " - `Reaction`: Represents a biochemical reaction in the model.\n",
    "   - **Attributes**:\n",
    "     - `id`: A unique identifier for the reaction.\n",
    "     - `name`: A descriptive name for the reaction.\n",
    "     - `metabolites`: A dictionary of `Metabolite` objects and their stoichiometric coefficients in the reaction.\n",
    "     - `lower_bound`: The lower bound of the reaction flux.\n",
    "     - `upper_bound`: The upper bound of the reaction flux.\n",
    "   - **Methods**:\n",
    "     - `add_metabolites(metabolites)`: Adds metabolites to the reaction.\n",
    "     - `remove_metabolites(metabolites)`: Removes metabolites from the reaction.\n",
    "\n",
    " - `Metabolite`: Represents a metabolite in the model.\n",
    "   - **Attributes**:\n",
    "     - `id`: A unique identifier for the metabolite.\n",
    "     - `name`: A descriptive name for the metabolite.\n",
    "     - `formula`: The chemical formula of the metabolite.\n",
    "     - `compartment`: The compartment where the metabolite is located.\n",
    "\n",
    " - `Gene`: Represents a gene in the model.\n",
    "   - **Attributes**:\n",
    "     - `id`: A unique identifier for the gene.\n",
    "     - `name`: A descriptive name for the gene.\n",
    "     - `reactions`: A list of `Reaction` objects associated with the gene.\n",
    "\n",
    "### Now we load `Recon3D` model as the parent model from which the base model will be created following `gsmm` library's functions, to further reconstruct context specific models be done.\n"
   ]
  },
  {
   "cell_type": "code",
   "execution_count": 3,
   "metadata": {},
   "outputs": [
    {
     "name": "stderr",
     "output_type": "stream",
     "text": [
      "2024-07-09 22:15:26,787 - INFO - The current solver interface glpk doesn't support setting the optimality tolerance.\n"
     ]
    },
    {
     "data": {
      "text/html": [
       "\n",
       "        <table>\n",
       "            <tr>\n",
       "                <td><strong>Name</strong></td>\n",
       "                <td>Recon3D</td>\n",
       "            </tr><tr>\n",
       "                <td><strong>Memory address</strong></td>\n",
       "                <td>106b88ed0</td>\n",
       "            </tr><tr>\n",
       "                <td><strong>Number of metabolites</strong></td>\n",
       "                <td>5835</td>\n",
       "            </tr><tr>\n",
       "                <td><strong>Number of reactions</strong></td>\n",
       "                <td>10600</td>\n",
       "            </tr><tr>\n",
       "                <td><strong>Number of genes</strong></td>\n",
       "                <td>2248</td>\n",
       "            </tr><tr>\n",
       "                <td><strong>Number of groups</strong></td>\n",
       "                <td>0</td>\n",
       "            </tr><tr>\n",
       "                <td><strong>Objective expression</strong></td>\n",
       "                <td>1.0*BIOMASS_maintenance - 1.0*BIOMASS_maintenance_reverse_5b3f9</td>\n",
       "            </tr><tr>\n",
       "                <td><strong>Compartments</strong></td>\n",
       "                <td>cytosol, lysosome, mitochondria, endoplasmic reticulum, extracellular space, peroxisome/glyoxysome, nucleus, golgi apparatus, inner mitochondrial compartment</td>\n",
       "            </tr>\n",
       "          </table>"
      ],
      "text/plain": [
       "<Model Recon3D at 0x106b88ed0>"
      ]
     },
     "execution_count": 3,
     "metadata": {},
     "output_type": "execute_result"
    }
   ],
   "source": [
    "recon_model = cobra.io.web.load_model(model_id=\"Recon3D\")\n",
    "recon_model"
   ]
  },
  {
   "cell_type": "markdown",
   "metadata": {},
   "source": [
    "#### We save `Recon3D` as `.xml` file. "
   ]
  },
  {
   "cell_type": "code",
   "execution_count": 5,
   "metadata": {},
   "outputs": [],
   "source": [
    "cobra.io.write_sbml_model(recon_model, \"recon_model.xml\")"
   ]
  },
  {
   "cell_type": "markdown",
   "metadata": {},
   "source": [
    "Reconstruction algorithm in `gsmm` needs,\n",
    "1. `parent_model_path`: `Recon3D` in this case.\n",
    "2. `base_model_path`: All the unneccessary genes, reactions and metabolites are removed, then the model is saved as `base_model`. \n",
    "3. `gene_id_column`: Expression data in our case has `gene ids` in the column called `Gene_ID`. We need to tell the algorithm that this is our `gene id` column."
   ]
  },
  {
   "cell_type": "code",
   "execution_count": 5,
   "metadata": {},
   "outputs": [],
   "source": [
    "parent_model_path = \"recon_model.xml\"\n",
    "base_model_path = \"recon_model.xml\"\n",
    "gene_id_column = \"Gene_ID\""
   ]
  },
  {
   "cell_type": "markdown",
   "metadata": {},
   "source": [
    "### Running Model Reconstruction to get Context-Specific Model\n",
    "\n",
    "`run_model_reconstruction(..)` takes care of the interface to run the main pipeline for reconstructing an optimized metabolic model from the provided expression data. It handles exceptions and prints error messages if reconstruction fails, returning None in case of errors."
   ]
  },
  {
   "cell_type": "code",
   "execution_count": 6,
   "metadata": {},
   "outputs": [
    {
     "name": "stderr",
     "output_type": "stream",
     "text": [
      "2024-07-09 23:07:13,201 - INFO - The current solver interface glpk doesn't support setting the optimality tolerance.\n"
     ]
    },
    {
     "name": "stdout",
     "output_type": "stream",
     "text": [
      "Cobra Configuration set to GLPK solver!\n",
      "Loading SBML model from recon_model.xml...\n"
     ]
    },
    {
     "name": "stderr",
     "output_type": "stream",
     "text": [
      "2024-07-09 23:07:16,085 - INFO - The current solver interface glpk doesn't support setting the optimality tolerance.\n"
     ]
    },
    {
     "name": "stdout",
     "output_type": "stream",
     "text": [
      "SBML model loaded.\n",
      "Loading expression data from ../../Data/InputData/EMT_FINAL_DATA.csv...\n",
      "Expression data loaded.\n",
      "Extracting genes from Gene_ID column...\n",
      "Number of Genes extracted: 1786\n",
      "Filtering model by genes...\n"
     ]
    },
    {
     "name": "stderr",
     "output_type": "stream",
     "text": [
      "2024-07-09 23:07:17,796 - INFO - The current solver interface glpk doesn't support setting the optimality tolerance.\n",
      "2024-07-09 23:07:18,691 - INFO - The current solver interface glpk doesn't support setting the optimality tolerance.\n"
     ]
    },
    {
     "name": "stdout",
     "output_type": "stream",
     "text": [
      "Model filtered.\n",
      "Normalizing expression data...\n",
      "Expression data has been normalized.\n",
      "Assigning confidence levels to reactions giving highest confidence levels to Biomass reactions...\n"
     ]
    },
    {
     "name": "stderr",
     "output_type": "stream",
     "text": [
      "2024-07-09 23:07:25,589 - INFO - The current solver interface glpk doesn't support setting the optimality tolerance.\n"
     ]
    },
    {
     "name": "stdout",
     "output_type": "stream",
     "text": [
      "Reaction Confidences:                 Reaction_ID  Confidence_Level\n",
      "0           24_25DHVITD3tm                -1\n",
      "1                25HVITD3t                -1\n",
      "2                    COAtl                -1\n",
      "3       EX_5adtststerone_e                -1\n",
      "4      EX_5adtststerones_e                -1\n",
      "...                    ...               ...\n",
      "10436         ACMPGLUTTRsc                -1\n",
      "10437             FVSCOAhc                -1\n",
      "10438             MDZGLChr                -1\n",
      "10439             TMACMPhr                -1\n",
      "10440           CYSACMPitr                -1\n",
      "\n",
      "[10441 rows x 2 columns]\n",
      "Reaction confidence levels saved as reaction_Epithelial_confidence_levels.csv.\n",
      "Initializing and building CORDA model...\n"
     ]
    },
    {
     "name": "stderr",
     "output_type": "stream",
     "text": [
      "2024-07-09 23:37:08,413 - INFO - The current solver interface glpk doesn't support setting the optimality tolerance.\n"
     ]
    },
    {
     "name": "stdout",
     "output_type": "stream",
     "text": [
      "CORDA model optimization completed.\n",
      "Optimized CORDA model:\n",
      "build status: reconstruction complete\n",
      "Inc. reactions: 1539/10441\n",
      " - unclear: 213/1071\n",
      " - exclude: 738/6995\n",
      " - low and medium: 360/2145\n",
      " - high: 228/230\n",
      "\n",
      "Reconstruction completed from the parent model Recon3D\n"
     ]
    },
    {
     "data": {
      "text/html": [
       "\n",
       "        <table>\n",
       "            <tr>\n",
       "                <td><strong>Name</strong></td>\n",
       "                <td>Recon3D</td>\n",
       "            </tr><tr>\n",
       "                <td><strong>Memory address</strong></td>\n",
       "                <td>3317be8d0</td>\n",
       "            </tr><tr>\n",
       "                <td><strong>Number of metabolites</strong></td>\n",
       "                <td>1198</td>\n",
       "            </tr><tr>\n",
       "                <td><strong>Number of reactions</strong></td>\n",
       "                <td>1539</td>\n",
       "            </tr><tr>\n",
       "                <td><strong>Number of genes</strong></td>\n",
       "                <td>683</td>\n",
       "            </tr><tr>\n",
       "                <td><strong>Number of groups</strong></td>\n",
       "                <td>0</td>\n",
       "            </tr><tr>\n",
       "                <td><strong>Objective expression</strong></td>\n",
       "                <td>1.0*BIOMASS_maintenance - 1.0*BIOMASS_maintenance_reverse_5b3f9</td>\n",
       "            </tr><tr>\n",
       "                <td><strong>Compartments</strong></td>\n",
       "                <td>cytosol, mitochondria, peroxisome/glyoxysome, extracellular space, golgi apparatus, lysosome, endoplasmic reticulum, nucleus</td>\n",
       "            </tr>\n",
       "          </table>"
      ],
      "text/plain": [
       "<Model Recon3D at 0x3317be8d0>"
      ]
     },
     "execution_count": 6,
     "metadata": {},
     "output_type": "execute_result"
    }
   ],
   "source": [
    "epithelial_csm = run_model_reconstruction(model_path=parent_model_path,\n",
    "                                          base_model_path=base_model_path,\n",
    "                                          data_path=emt_expression_data_path,\n",
    "                                          gene_id_column=gene_id_column,\n",
    "                                          scores_column=\"Epithelial\",\n",
    "                                          )\n",
    "epithelial_csm"
   ]
  },
  {
   "cell_type": "markdown",
   "metadata": {},
   "source": [
    "Similarly we do so to get `mesenchymal` context specific metabolic model."
   ]
  },
  {
   "cell_type": "code",
   "execution_count": 7,
   "metadata": {},
   "outputs": [
    {
     "name": "stderr",
     "output_type": "stream",
     "text": [
      "2024-07-09 23:37:41,993 - INFO - The current solver interface glpk doesn't support setting the optimality tolerance.\n"
     ]
    },
    {
     "name": "stdout",
     "output_type": "stream",
     "text": [
      "Cobra Configuration set to GLPK solver!\n",
      "Loading SBML model from recon_model.xml...\n"
     ]
    },
    {
     "name": "stderr",
     "output_type": "stream",
     "text": [
      "2024-07-09 23:37:45,448 - INFO - The current solver interface glpk doesn't support setting the optimality tolerance.\n"
     ]
    },
    {
     "name": "stdout",
     "output_type": "stream",
     "text": [
      "SBML model loaded.\n",
      "Loading expression data from ../../Data/InputData/EMT_FINAL_DATA.csv...\n",
      "Expression data loaded.\n",
      "Extracting genes from Gene_ID column...\n",
      "Number of Genes extracted: 1786\n",
      "Filtering model by genes...\n"
     ]
    },
    {
     "name": "stderr",
     "output_type": "stream",
     "text": [
      "2024-07-09 23:37:46,399 - INFO - The current solver interface glpk doesn't support setting the optimality tolerance.\n",
      "2024-07-09 23:37:47,240 - INFO - The current solver interface glpk doesn't support setting the optimality tolerance.\n"
     ]
    },
    {
     "name": "stdout",
     "output_type": "stream",
     "text": [
      "Model filtered.\n",
      "Normalizing expression data...\n",
      "Expression data has been normalized.\n",
      "Assigning confidence levels to reactions giving highest confidence levels to Biomass reactions...\n"
     ]
    },
    {
     "name": "stderr",
     "output_type": "stream",
     "text": [
      "2024-07-09 23:37:54,345 - INFO - The current solver interface glpk doesn't support setting the optimality tolerance.\n"
     ]
    },
    {
     "name": "stdout",
     "output_type": "stream",
     "text": [
      "Reaction Confidences:                 Reaction_ID  Confidence_Level\n",
      "0           24_25DHVITD3tm                -1\n",
      "1                25HVITD3t                -1\n",
      "2                    COAtl                -1\n",
      "3       EX_5adtststerone_e                -1\n",
      "4      EX_5adtststerones_e                -1\n",
      "...                    ...               ...\n",
      "10436         ACMPGLUTTRsc                -1\n",
      "10437             FVSCOAhc                -1\n",
      "10438             MDZGLChr                -1\n",
      "10439             TMACMPhr                -1\n",
      "10440           CYSACMPitr                -1\n",
      "\n",
      "[10441 rows x 2 columns]\n",
      "Reaction confidence levels saved as reaction_Mesenchymal_confidence_levels.csv.\n",
      "Initializing and building CORDA model...\n"
     ]
    },
    {
     "name": "stderr",
     "output_type": "stream",
     "text": [
      "2024-07-10 00:06:41,053 - INFO - The current solver interface glpk doesn't support setting the optimality tolerance.\n"
     ]
    },
    {
     "name": "stdout",
     "output_type": "stream",
     "text": [
      "CORDA model optimization completed.\n",
      "Optimized CORDA model:\n",
      "build status: reconstruction complete\n",
      "Inc. reactions: 1518/10441\n",
      " - unclear: 221/1523\n",
      " - exclude: 713/6606\n",
      " - low and medium: 385/2107\n",
      " - high: 199/205\n",
      "\n",
      "Reconstruction completed from the parent model Recon3D\n"
     ]
    },
    {
     "data": {
      "text/html": [
       "\n",
       "        <table>\n",
       "            <tr>\n",
       "                <td><strong>Name</strong></td>\n",
       "                <td>Recon3D</td>\n",
       "            </tr><tr>\n",
       "                <td><strong>Memory address</strong></td>\n",
       "                <td>32ddb6490</td>\n",
       "            </tr><tr>\n",
       "                <td><strong>Number of metabolites</strong></td>\n",
       "                <td>1200</td>\n",
       "            </tr><tr>\n",
       "                <td><strong>Number of reactions</strong></td>\n",
       "                <td>1518</td>\n",
       "            </tr><tr>\n",
       "                <td><strong>Number of genes</strong></td>\n",
       "                <td>684</td>\n",
       "            </tr><tr>\n",
       "                <td><strong>Number of groups</strong></td>\n",
       "                <td>0</td>\n",
       "            </tr><tr>\n",
       "                <td><strong>Objective expression</strong></td>\n",
       "                <td>1.0*BIOMASS_maintenance - 1.0*BIOMASS_maintenance_reverse_5b3f9</td>\n",
       "            </tr><tr>\n",
       "                <td><strong>Compartments</strong></td>\n",
       "                <td>cytosol, mitochondria, peroxisome/glyoxysome, extracellular space, lysosome, endoplasmic reticulum, nucleus</td>\n",
       "            </tr>\n",
       "          </table>"
      ],
      "text/plain": [
       "<Model Recon3D at 0x32ddb6490>"
      ]
     },
     "execution_count": 7,
     "metadata": {},
     "output_type": "execute_result"
    }
   ],
   "source": [
    "mesenchymal_csm = run_model_reconstruction(model_path=parent_model_path,\n",
    "                                          base_model_path=base_model_path,\n",
    "                                          data_path=emt_expression_data_path,\n",
    "                                          gene_id_column=gene_id_column,\n",
    "                                          scores_column=\"Mesenchymal\",\n",
    "                                          )\n",
    "mesenchymal_csm"
   ]
  },
  {
   "cell_type": "markdown",
   "metadata": {},
   "source": [
    "### Save the CSMs for further analysis and plots"
   ]
  },
  {
   "cell_type": "code",
   "execution_count": 8,
   "metadata": {},
   "outputs": [],
   "source": [
    "cobra.io.write_sbml_model(epithelial_csm, \"epithelial_csm.xml\")\n",
    "cobra.io.write_sbml_model(mesenchymal_csm, \"mesenchymal_csm.xml\")"
   ]
  }
 ],
 "metadata": {
  "kernelspec": {
   "display_name": "Python 3",
   "language": "python",
   "name": "python3"
  },
  "language_info": {
   "codemirror_mode": {
    "name": "ipython",
    "version": 3
   },
   "file_extension": ".py",
   "mimetype": "text/x-python",
   "name": "python",
   "nbconvert_exporter": "python",
   "pygments_lexer": "ipython3",
   "version": "3.11.5"
  }
 },
 "nbformat": 4,
 "nbformat_minor": 2
}
