{
 "cells": [
  {
   "cell_type": "code",
   "execution_count": 2,
   "metadata": {},
   "outputs": [],
   "source": [
    "from cobra import Configuration\n",
    "from cobra.io import read_sbml_model\n",
    "import pandas as pd\n",
    "import cobra\n",
    "from sklearn.preprocessing import MinMaxScaler\n",
    "from cobra.manipulation.delete import remove_genes, prune_unused_metabolites, prune_unused_reactions\n",
    "import seaborn as sns\n",
    "import matplotlib.pyplot as plt\n",
    "from corda import CORDA"
   ]
  },
  {
   "cell_type": "markdown",
   "metadata": {},
   "source": [
    "I am setting to the solver an open source linear programming alternative: \"GLPK\" to solve the stoichiometric matrix"
   ]
  },
  {
   "cell_type": "code",
   "execution_count": 3,
   "metadata": {},
   "outputs": [
    {
     "data": {
      "text/html": [
       "\n",
       "<table>\n",
       "  <thead>\n",
       "    <tr>\n",
       "      <td><strong>Attribute</strong></td>\n",
       "      <td><strong>Description</strong></td>\n",
       "      <td><strong>Value</strong></td>\n",
       "    </tr>\n",
       "  </thead>\n",
       "  <tbody>\n",
       "    <tr>\n",
       "      <td><pre>solver</pre></td>\n",
       "      <td>Mathematical optimization solver</td>\n",
       "      <td>glpk</td>\n",
       "    </tr>\n",
       "    <tr>\n",
       "        <td><pre>tolerance</pre></td>\n",
       "        <td>General solver tolerance (feasibility, integrality, etc.)</td>\n",
       "        <td>1e-07</td>\n",
       "    </tr>\n",
       "    <tr>\n",
       "        <td><pre>lower_bound</pre></td>\n",
       "        <td>Default reaction lower bound</td>\n",
       "        <td>-1000.0</td>\n",
       "    </tr>\n",
       "    <tr>\n",
       "        <td><pre>upper_bound</pre></td>\n",
       "        <td>Default reaction upper bound</td>\n",
       "        <td>1000.0</td>\n",
       "    </tr>\n",
       "    <tr>\n",
       "        <td><pre>processes</pre></td>\n",
       "        <td>Number of parallel processes</td>\n",
       "        <td>7</td>\n",
       "    </tr>\n",
       "    <tr>\n",
       "        <td><pre>cache_directory</pre></td>\n",
       "        <td>Path for the model cache</td>\n",
       "        <td>/Users/karthik/Library/Caches/cobrapy</td>\n",
       "    </tr>\n",
       "    <tr>\n",
       "        <td><pre>max_cache_size</pre></td>\n",
       "        <td>Maximum cache size in bytes</td>\n",
       "        <td>104857600</td>\n",
       "    </tr>\n",
       "    <tr>\n",
       "        <td><pre>cache_expiration</pre></td>\n",
       "        <td>Model cache expiration time in seconds (if any)</td>\n",
       "        <td>None</td>\n",
       "    </tr>\n",
       "  </tbody>\n",
       "</table>\n"
      ],
      "text/plain": [
       "\n",
       "solver: glpk\n",
       "tolerance: 1e-07\n",
       "lower_bound: -1000.0\n",
       "upper_bound: 1000.0\n",
       "processes: 7\n",
       "cache_directory: /Users/karthik/Library/Caches/cobrapy\n",
       "max_cache_size: 104857600\n",
       "cache_expiration: None"
      ]
     },
     "execution_count": 3,
     "metadata": {},
     "output_type": "execute_result"
    }
   ],
   "source": [
    "config = Configuration()\n",
    "config.solver = \"glpk\"\n",
    "config"
   ]
  },
  {
   "cell_type": "markdown",
   "metadata": {},
   "source": [
    "Here, parent model will be Recon3D, from which context specific models: Epithelial and Mesenchymal CSMs are created."
   ]
  },
  {
   "cell_type": "code",
   "execution_count": 3,
   "metadata": {},
   "outputs": [
    {
     "data": {
      "text/html": [
       "\n",
       "        <table>\n",
       "            <tr>\n",
       "                <td><strong>Name</strong></td>\n",
       "                <td>Recon3D</td>\n",
       "            </tr><tr>\n",
       "                <td><strong>Memory address</strong></td>\n",
       "                <td>17648b810</td>\n",
       "            </tr><tr>\n",
       "                <td><strong>Number of metabolites</strong></td>\n",
       "                <td>5835</td>\n",
       "            </tr><tr>\n",
       "                <td><strong>Number of reactions</strong></td>\n",
       "                <td>10600</td>\n",
       "            </tr><tr>\n",
       "                <td><strong>Number of genes</strong></td>\n",
       "                <td>2248</td>\n",
       "            </tr><tr>\n",
       "                <td><strong>Number of groups</strong></td>\n",
       "                <td>0</td>\n",
       "            </tr><tr>\n",
       "                <td><strong>Objective expression</strong></td>\n",
       "                <td>1.0*BIOMASS_maintenance - 1.0*BIOMASS_maintenance_reverse_5b3f9</td>\n",
       "            </tr><tr>\n",
       "                <td><strong>Compartments</strong></td>\n",
       "                <td>cytosol, lysosome, mitochondria, endoplasmic reticulum, extracellular space, peroxisome/glyoxysome, nucleus, golgi apparatus, inner mitochondrial compartment</td>\n",
       "            </tr>\n",
       "          </table>"
      ],
      "text/plain": [
       "<Model Recon3D at 0x17648b810>"
      ]
     },
     "execution_count": 3,
     "metadata": {},
     "output_type": "execute_result"
    }
   ],
   "source": [
    "recon3d_model = read_sbml_model('/Users/karthik/Desktop/PHCCO IISc Internship/EMT/Recon3D.xml')\n",
    "recon3d_model"
   ]
  },
  {
   "cell_type": "markdown",
   "metadata": {},
   "source": [
    "Then I read the EMT expression data for Mesenchymal and Epithelial each, to get the CSMs of based of each of the columns"
   ]
  },
  {
   "cell_type": "code",
   "execution_count": 4,
   "metadata": {},
   "outputs": [
    {
     "data": {
      "text/html": [
       "<div>\n",
       "<style scoped>\n",
       "    .dataframe tbody tr th:only-of-type {\n",
       "        vertical-align: middle;\n",
       "    }\n",
       "\n",
       "    .dataframe tbody tr th {\n",
       "        vertical-align: top;\n",
       "    }\n",
       "\n",
       "    .dataframe thead th {\n",
       "        text-align: right;\n",
       "    }\n",
       "</style>\n",
       "<table border=\"1\" class=\"dataframe\">\n",
       "  <thead>\n",
       "    <tr style=\"text-align: right;\">\n",
       "      <th></th>\n",
       "      <th>Gene_ID</th>\n",
       "      <th>Mesenchymal</th>\n",
       "      <th>Epithelial</th>\n",
       "    </tr>\n",
       "  </thead>\n",
       "  <tbody>\n",
       "    <tr>\n",
       "      <th>0</th>\n",
       "      <td>2978_AT1</td>\n",
       "      <td>1.590799</td>\n",
       "      <td>-7.624877</td>\n",
       "    </tr>\n",
       "    <tr>\n",
       "      <th>1</th>\n",
       "      <td>1571_AT1</td>\n",
       "      <td>6.046029</td>\n",
       "      <td>3.480441</td>\n",
       "    </tr>\n",
       "    <tr>\n",
       "      <th>2</th>\n",
       "      <td>1549_AT1</td>\n",
       "      <td>2.358338</td>\n",
       "      <td>3.101581</td>\n",
       "    </tr>\n",
       "    <tr>\n",
       "      <th>3</th>\n",
       "      <td>1548_AT1</td>\n",
       "      <td>2.358338</td>\n",
       "      <td>3.101581</td>\n",
       "    </tr>\n",
       "    <tr>\n",
       "      <th>4</th>\n",
       "      <td>949_AT1</td>\n",
       "      <td>8.881953</td>\n",
       "      <td>8.613039</td>\n",
       "    </tr>\n",
       "  </tbody>\n",
       "</table>\n",
       "</div>"
      ],
      "text/plain": [
       "    Gene_ID  Mesenchymal  Epithelial\n",
       "0  2978_AT1     1.590799   -7.624877\n",
       "1  1571_AT1     6.046029    3.480441\n",
       "2  1549_AT1     2.358338    3.101581\n",
       "3  1548_AT1     2.358338    3.101581\n",
       "4   949_AT1     8.881953    8.613039"
      ]
     },
     "execution_count": 4,
     "metadata": {},
     "output_type": "execute_result"
    }
   ],
   "source": [
    "expression_data = pd.read_csv(\n",
    "   # \"/Users/karthik/Desktop/PHCCO IISc Internship/emt_expression_data_with_recon_id.csv\"\n",
    "   \"/Users/karthik/Desktop/PHCCO IISc Internship/EMT_FINAL_DATA.csv\"\n",
    ")\n",
    "expression_data.head()"
   ]
  },
  {
   "cell_type": "markdown",
   "metadata": {},
   "source": [
    "The following cell was created to read the fasting expression data, which was assigned to the same variable as we read above.\n",
    "This expression data is used on each of Epithelial and Mesenchymal CSMs, to create Epithelial-Fasting CSM and Mesenchymal-Fasting CSM."
   ]
  },
  {
   "cell_type": "code",
   "execution_count": 4,
   "metadata": {},
   "outputs": [
    {
     "data": {
      "text/html": [
       "<div>\n",
       "<style scoped>\n",
       "    .dataframe tbody tr th:only-of-type {\n",
       "        vertical-align: middle;\n",
       "    }\n",
       "\n",
       "    .dataframe tbody tr th {\n",
       "        vertical-align: top;\n",
       "    }\n",
       "\n",
       "    .dataframe thead th {\n",
       "        text-align: right;\n",
       "    }\n",
       "</style>\n",
       "<table border=\"1\" class=\"dataframe\">\n",
       "  <thead>\n",
       "    <tr style=\"text-align: right;\">\n",
       "      <th></th>\n",
       "      <th>symbol</th>\n",
       "      <th>baseMean</th>\n",
       "      <th>log2fold_change</th>\n",
       "      <th>p_value</th>\n",
       "      <th>baseMean_normalized</th>\n",
       "      <th>-log10(p_value)</th>\n",
       "      <th>regulation</th>\n",
       "    </tr>\n",
       "  </thead>\n",
       "  <tbody>\n",
       "    <tr>\n",
       "      <th>0</th>\n",
       "      <td>DDX11L1</td>\n",
       "      <td>0.258591</td>\n",
       "      <td>0.036116</td>\n",
       "      <td>0.879453</td>\n",
       "      <td>-0.059476</td>\n",
       "      <td>0.055788</td>\n",
       "      <td>Not significant</td>\n",
       "    </tr>\n",
       "    <tr>\n",
       "      <th>1</th>\n",
       "      <td>WASH7P</td>\n",
       "      <td>12.983945</td>\n",
       "      <td>0.008918</td>\n",
       "      <td>0.970470</td>\n",
       "      <td>-0.056637</td>\n",
       "      <td>0.013018</td>\n",
       "      <td>Not significant</td>\n",
       "    </tr>\n",
       "    <tr>\n",
       "      <th>2</th>\n",
       "      <td>LOC729737</td>\n",
       "      <td>21.638194</td>\n",
       "      <td>0.006211</td>\n",
       "      <td>0.982015</td>\n",
       "      <td>-0.054706</td>\n",
       "      <td>0.007882</td>\n",
       "      <td>Not significant</td>\n",
       "    </tr>\n",
       "    <tr>\n",
       "      <th>3</th>\n",
       "      <td>FAM138D</td>\n",
       "      <td>0.114211</td>\n",
       "      <td>0.033687</td>\n",
       "      <td>0.800134</td>\n",
       "      <td>-0.059508</td>\n",
       "      <td>0.096837</td>\n",
       "      <td>Not significant</td>\n",
       "    </tr>\n",
       "    <tr>\n",
       "      <th>4</th>\n",
       "      <td>LOC101928626</td>\n",
       "      <td>0.250746</td>\n",
       "      <td>0.107664</td>\n",
       "      <td>0.588727</td>\n",
       "      <td>-0.059478</td>\n",
       "      <td>0.230086</td>\n",
       "      <td>Not significant</td>\n",
       "    </tr>\n",
       "    <tr>\n",
       "      <th>...</th>\n",
       "      <td>...</td>\n",
       "      <td>...</td>\n",
       "      <td>...</td>\n",
       "      <td>...</td>\n",
       "      <td>...</td>\n",
       "      <td>...</td>\n",
       "      <td>...</td>\n",
       "    </tr>\n",
       "    <tr>\n",
       "      <th>25535</th>\n",
       "      <td>BCORP1</td>\n",
       "      <td>0.075737</td>\n",
       "      <td>0.027772</td>\n",
       "      <td>0.834668</td>\n",
       "      <td>-0.059517</td>\n",
       "      <td>0.078486</td>\n",
       "      <td>Not significant</td>\n",
       "    </tr>\n",
       "    <tr>\n",
       "      <th>25536</th>\n",
       "      <td>TXLNGY</td>\n",
       "      <td>0.210122</td>\n",
       "      <td>-0.012409</td>\n",
       "      <td>0.940506</td>\n",
       "      <td>-0.059487</td>\n",
       "      <td>0.026638</td>\n",
       "      <td>Not significant</td>\n",
       "    </tr>\n",
       "    <tr>\n",
       "      <th>25537</th>\n",
       "      <td>KDM5D</td>\n",
       "      <td>0.294809</td>\n",
       "      <td>-0.022351</td>\n",
       "      <td>0.911426</td>\n",
       "      <td>-0.059468</td>\n",
       "      <td>0.040279</td>\n",
       "      <td>Not significant</td>\n",
       "    </tr>\n",
       "    <tr>\n",
       "      <th>25538</th>\n",
       "      <td>PRORY</td>\n",
       "      <td>0.054897</td>\n",
       "      <td>0.027772</td>\n",
       "      <td>0.834668</td>\n",
       "      <td>-0.059522</td>\n",
       "      <td>0.078486</td>\n",
       "      <td>Not significant</td>\n",
       "    </tr>\n",
       "    <tr>\n",
       "      <th>25539</th>\n",
       "      <td>CSPG4P1Y</td>\n",
       "      <td>0.018250</td>\n",
       "      <td>0.021856</td>\n",
       "      <td>0.869524</td>\n",
       "      <td>-0.059530</td>\n",
       "      <td>0.060718</td>\n",
       "      <td>Not significant</td>\n",
       "    </tr>\n",
       "  </tbody>\n",
       "</table>\n",
       "<p>25540 rows × 7 columns</p>\n",
       "</div>"
      ],
      "text/plain": [
       "             symbol   baseMean  log2fold_change   p_value  \\\n",
       "0           DDX11L1   0.258591         0.036116  0.879453   \n",
       "1            WASH7P  12.983945         0.008918  0.970470   \n",
       "2         LOC729737  21.638194         0.006211  0.982015   \n",
       "3           FAM138D   0.114211         0.033687  0.800134   \n",
       "4      LOC101928626   0.250746         0.107664  0.588727   \n",
       "...             ...        ...              ...       ...   \n",
       "25535        BCORP1   0.075737         0.027772  0.834668   \n",
       "25536        TXLNGY   0.210122        -0.012409  0.940506   \n",
       "25537         KDM5D   0.294809        -0.022351  0.911426   \n",
       "25538         PRORY   0.054897         0.027772  0.834668   \n",
       "25539      CSPG4P1Y   0.018250         0.021856  0.869524   \n",
       "\n",
       "       baseMean_normalized  -log10(p_value)       regulation  \n",
       "0                -0.059476         0.055788  Not significant  \n",
       "1                -0.056637         0.013018  Not significant  \n",
       "2                -0.054706         0.007882  Not significant  \n",
       "3                -0.059508         0.096837  Not significant  \n",
       "4                -0.059478         0.230086  Not significant  \n",
       "...                    ...              ...              ...  \n",
       "25535            -0.059517         0.078486  Not significant  \n",
       "25536            -0.059487         0.026638  Not significant  \n",
       "25537            -0.059468         0.040279  Not significant  \n",
       "25538            -0.059522         0.078486  Not significant  \n",
       "25539            -0.059530         0.060718  Not significant  \n",
       "\n",
       "[25540 rows x 7 columns]"
      ]
     },
     "execution_count": 4,
     "metadata": {},
     "output_type": "execute_result"
    }
   ],
   "source": [
    "expression_data = pd.read_csv('/Users/karthik/Desktop/PHCCO IISc Internship/EMT/processed_s11_expression_data.csv')\n",
    "expression_data"
   ]
  },
  {
   "cell_type": "markdown",
   "metadata": {},
   "source": [
    "This algorithm creates a base model by removing all the unnecessary genes, reactions and dead-end metabolites from the parent model, recon3d. Then it returns the base model, from which all the context specific models are made."
   ]
  },
  {
   "cell_type": "code",
   "execution_count": 5,
   "metadata": {},
   "outputs": [],
   "source": [
    "# Extract the list of genes from the expression data\n",
    "expression_genes = expression_data[\"Gene_ID\"].tolist()\n",
    "\n",
    "def filter_model_by_genes(model, genes):\n",
    "    \"\"\"\n",
    "    Filter a COBRA model to include only reactions associated with a given list of genes (gene ids).\n",
    "    \"\"\"\n",
    "    # Copy the model\n",
    "    new_model = model.copy()\n",
    "\n",
    "    # Get the list of genes in the model\n",
    "    genes_in_model = [gene.id for gene in new_model.genes]\n",
    "\n",
    "    # Find genes to remove\n",
    "    genes_to_remove = list(set(genes_in_model) - set(genes))\n",
    "    \n",
    "    genes_to_remove_by_id = set()\n",
    "    \n",
    "    for gene in new_model.genes:\n",
    "        if gene.name in genes_to_remove:\n",
    "            genes_to_remove_by_id.add(gene.id)\n",
    "            \n",
    "    genes_to_remove_by_id = list(genes_to_remove_by_id)\n",
    "\n",
    "    # Remove genes and their associated reactions\n",
    "    remove_genes(new_model, genes_to_remove_by_id, remove_reactions=True)\n",
    "    new_model, _ = prune_unused_reactions(new_model)\n",
    "    new_model, _ = prune_unused_metabolites(new_model)\n",
    "\n",
    "    return new_model\n",
    "\n",
    "# Create the context-specific model\n",
    "filtered_model = filter_model_by_genes(recon3d_model, expression_genes)\n",
    "\n",
    "# Save or analyze the new model\n",
    "cobra.io.write_sbml_model(filtered_model, \"emt_base.xml\")"
   ]
  },
  {
   "cell_type": "code",
   "execution_count": 6,
   "metadata": {},
   "outputs": [
    {
     "data": {
      "text/html": [
       "\n",
       "        <table>\n",
       "            <tr>\n",
       "                <td><strong>Name</strong></td>\n",
       "                <td>Recon3D</td>\n",
       "            </tr><tr>\n",
       "                <td><strong>Memory address</strong></td>\n",
       "                <td>106b8aed0</td>\n",
       "            </tr><tr>\n",
       "                <td><strong>Number of metabolites</strong></td>\n",
       "                <td>5835</td>\n",
       "            </tr><tr>\n",
       "                <td><strong>Number of reactions</strong></td>\n",
       "                <td>10597</td>\n",
       "            </tr><tr>\n",
       "                <td><strong>Number of genes</strong></td>\n",
       "                <td>2229</td>\n",
       "            </tr><tr>\n",
       "                <td><strong>Number of groups</strong></td>\n",
       "                <td>0</td>\n",
       "            </tr><tr>\n",
       "                <td><strong>Objective expression</strong></td>\n",
       "                <td>1.0*BIOMASS_maintenance - 1.0*BIOMASS_maintenance_reverse_5b3f9</td>\n",
       "            </tr><tr>\n",
       "                <td><strong>Compartments</strong></td>\n",
       "                <td>cytosol, lysosome, mitochondria, endoplasmic reticulum, extracellular space, peroxisome/glyoxysome, nucleus, golgi apparatus, inner mitochondrial compartment</td>\n",
       "            </tr>\n",
       "          </table>"
      ],
      "text/plain": [
       "<Model Recon3D at 0x106b8aed0>"
      ]
     },
     "execution_count": 6,
     "metadata": {},
     "output_type": "execute_result"
    }
   ],
   "source": [
    "model = filtered_model.copy()\n",
    "model"
   ]
  },
  {
   "cell_type": "code",
   "execution_count": 4,
   "metadata": {},
   "outputs": [
    {
     "data": {
      "text/html": [
       "\n",
       "        <table>\n",
       "            <tr>\n",
       "                <td><strong>Name</strong></td>\n",
       "                <td>Recon3D</td>\n",
       "            </tr><tr>\n",
       "                <td><strong>Memory address</strong></td>\n",
       "                <td>322dfbad0</td>\n",
       "            </tr><tr>\n",
       "                <td><strong>Number of metabolites</strong></td>\n",
       "                <td>5835</td>\n",
       "            </tr><tr>\n",
       "                <td><strong>Number of reactions</strong></td>\n",
       "                <td>10597</td>\n",
       "            </tr><tr>\n",
       "                <td><strong>Number of genes</strong></td>\n",
       "                <td>2229</td>\n",
       "            </tr><tr>\n",
       "                <td><strong>Number of groups</strong></td>\n",
       "                <td>0</td>\n",
       "            </tr><tr>\n",
       "                <td><strong>Objective expression</strong></td>\n",
       "                <td>1.0*BIOMASS_maintenance - 1.0*BIOMASS_maintenance_reverse_5b3f9</td>\n",
       "            </tr><tr>\n",
       "                <td><strong>Compartments</strong></td>\n",
       "                <td>cytosol, lysosome, mitochondria, endoplasmic reticulum, extracellular space, peroxisome/glyoxysome, nucleus, golgi apparatus, inner mitochondrial compartment</td>\n",
       "            </tr>\n",
       "          </table>"
      ],
      "text/plain": [
       "<Model Recon3D at 0x322dfbad0>"
      ]
     },
     "execution_count": 4,
     "metadata": {},
     "output_type": "execute_result"
    }
   ],
   "source": [
    "model = read_sbml_model('emt_base.xml')\n",
    "model"
   ]
  },
  {
   "cell_type": "code",
   "execution_count": 5,
   "metadata": {},
   "outputs": [
    {
     "data": {
      "text/html": [
       "\n",
       "        <table>\n",
       "            <tr>\n",
       "                <td><strong>Name</strong></td>\n",
       "                <td>Recon3D</td>\n",
       "            </tr><tr>\n",
       "                <td><strong>Memory address</strong></td>\n",
       "                <td>17eca0310</td>\n",
       "            </tr><tr>\n",
       "                <td><strong>Number of metabolites</strong></td>\n",
       "                <td>1295</td>\n",
       "            </tr><tr>\n",
       "                <td><strong>Number of reactions</strong></td>\n",
       "                <td>1657</td>\n",
       "            </tr><tr>\n",
       "                <td><strong>Number of genes</strong></td>\n",
       "                <td>895</td>\n",
       "            </tr><tr>\n",
       "                <td><strong>Number of groups</strong></td>\n",
       "                <td>0</td>\n",
       "            </tr><tr>\n",
       "                <td><strong>Objective expression</strong></td>\n",
       "                <td>1.0*BIOMASS_maintenance - 1.0*BIOMASS_maintenance_reverse_5b3f9</td>\n",
       "            </tr><tr>\n",
       "                <td><strong>Compartments</strong></td>\n",
       "                <td>cytosol, mitochondria, peroxisome/glyoxysome, extracellular space, lysosome, endoplasmic reticulum, nucleus, inner mitochondrial compartment</td>\n",
       "            </tr>\n",
       "          </table>"
      ],
      "text/plain": [
       "<Model Recon3D at 0x17eca0310>"
      ]
     },
     "execution_count": 5,
     "metadata": {},
     "output_type": "execute_result"
    }
   ],
   "source": [
    "model = read_sbml_model('Mesenchymal_csm.xml')\n",
    "model"
   ]
  },
  {
   "cell_type": "markdown",
   "metadata": {},
   "source": [
    "The following cell does \n",
    "1. Normalizing gene expression using MinMaxScaler. \n",
    "2. Confidence Levels for Genes are assigned confidence levels based on their normalized expression values using thresholds calculated from statistical properties of the data.\n",
    "3. Gene-Confidence Mapping: For each reaction, the associated genes' confidence levels are retrieved.\n",
    "4. Propagating Confidence: The reaction is assigned the lowest confidence level among its associated genes. If no associated genes are found, a default confidence level of -1 is assigned.\n",
    "   \n",
    "Justification: Using the lowest confidence among associated genes ensures that reactions are not over-confidently included if any associated gene suggests a lower confidence.\n",
    "Thresholds: Reflect realistic ranges for high, medium, and low expression, providing a balanced and scientifically meaningful distribution of confidence levels."
   ]
  },
  {
   "cell_type": "code",
   "execution_count": 6,
   "metadata": {},
   "outputs": [
    {
     "name": "stdout",
     "output_type": "stream",
     "text": [
      "             Reaction_ID  Confidence_Level\n",
      "0     EX_5adtststerone_e                -1\n",
      "1             EX_5fthf_e                -1\n",
      "2             EX_5mthf_e                -1\n",
      "3               2AMADPTm                 0\n",
      "4              2OXOADPTm                 0\n",
      "...                  ...               ...\n",
      "1652            HMR_0795                 0\n",
      "1653            HMR_2817                 2\n",
      "1654            HMR_2821                 2\n",
      "1655            HMR_2857                 2\n",
      "1656            HMR_4772                 1\n",
      "\n",
      "[1657 rows x 2 columns]\n"
     ]
    }
   ],
   "source": [
    "id_column_name = \"symbol\"\n",
    "column_name = 'baseMean'\n",
    "\n",
    "# Normalize the 'Sensitive' column\n",
    "scaler = MinMaxScaler()\n",
    "expression_data[f'Normalized_{column_name}'] = scaler.fit_transform(expression_data[[column_name]])\n",
    "\n",
    "# Calculate statistics for confidence level thresholds\n",
    "mean = expression_data[f'Normalized_{column_name}'].mean()\n",
    "std_dev = expression_data[f'Normalized_{column_name}'].std()\n",
    "\n",
    "# highest_confidence_threshold = mean + std_dev\n",
    "\n",
    "highest_confidence_threshold = expression_data[f'Normalized_{column_name}'].quantile(0.90)\n",
    "lowest_confidence_threshold = mean - std_dev\n",
    "\n",
    "percentile_25 = expression_data[f'Normalized_{column_name}'].quantile(0.25)\n",
    "percentile_50 = expression_data[f'Normalized_{column_name}'].quantile(0.50)\n",
    "percentile_75 = expression_data[f'Normalized_{column_name}'].quantile(0.75)\n",
    "\n",
    "# Assign confidence levels to genes\n",
    "def assign_gene_confidence(value):\n",
    "    if value >= highest_confidence_threshold:\n",
    "        return 3\n",
    "    elif value >= percentile_75:\n",
    "        return 2\n",
    "    elif value >= percentile_50:\n",
    "        return 1\n",
    "    elif value >= percentile_25:\n",
    "        return 0\n",
    "    elif value <= lowest_confidence_threshold:\n",
    "        return -1\n",
    "    else:\n",
    "        return 0\n",
    "\n",
    "expression_data['Gene_Confidence_Level'] = expression_data[f'Normalized_{column_name}'].apply(assign_gene_confidence)\n",
    "\n",
    "# Initialize a dictionary to store reaction confidence levels\n",
    "reaction_confidence = {}\n",
    "\n",
    "# Assign confidence levels to reactions based on associated genes\n",
    "for reaction in model.reactions:\n",
    "    reaction_id = reaction.id\n",
    "    associated_genes = [gene.name for gene in reaction.genes]\n",
    "    \n",
    "    # Get the confidence levels of the associated genes\n",
    "    gene_confidences = expression_data.loc[expression_data[id_column_name].isin(associated_genes), 'Gene_Confidence_Level']\n",
    "\n",
    "    # Propagate the lowest confidence level to the reaction\n",
    "    if not gene_confidences.empty:\n",
    "        reaction_confidence[reaction_id] = gene_confidences.min()\n",
    "    else:\n",
    "        reaction_confidence[reaction_id] = -1  # Assign -1 if no associated genes found\n",
    "        \n",
    "# Assign highest confidence level to specific biomass reactions\n",
    "for biomass_reaction_id in ['BIOMASS_maintenance_noTrTr', 'BIOMASS_maintenance', 'BIOMASS_reaction']:\n",
    "    if biomass_reaction_id in reaction_confidence:\n",
    "        reaction_confidence[biomass_reaction_id] = 3\n",
    "\n",
    "# Convert the dictionary to a DataFrame\n",
    "reaction_confidence_df = pd.DataFrame(list(reaction_confidence.items()), columns=['Reaction_ID', 'Confidence_Level'])\n",
    "\n",
    "# Save the result to a CSV file\n",
    "reaction_confidence_df.to_csv(f\"reaction_{column_name}_confidence_levels.csv\", index=False)\n",
    "\n",
    "# Print to check\n",
    "print(reaction_confidence_df)"
   ]
  },
  {
   "cell_type": "code",
   "execution_count": 7,
   "metadata": {},
   "outputs": [
    {
     "data": {
      "image/png": "[encoded data removed]",
      "text/plain": [
       "<Figure size 1000x600 with 1 Axes>"
      ]
     },
     "metadata": {},
     "output_type": "display_data"
    }
   ],
   "source": [
    "# Plot Count of Genes per Confidence Level\n",
    "plt.figure(figsize=(10, 6))\n",
    "sns.countplot(data=reaction_confidence_df, x='Confidence_Level', hue='Confidence_Level', legend=False)\n",
    "plt.xlabel('Confidence Level')\n",
    "plt.ylabel('Number of Genes')\n",
    "plt.title(f'Count of Genes per Confidence Level For {column_name} Expression Data')\n",
    "plt.grid(axis='y', linestyle='--', alpha=0.7)\n",
    "plt.tight_layout()\n",
    "plt.show()"
   ]
  },
  {
   "cell_type": "markdown",
   "metadata": {},
   "source": [
    "Confidence levels are converted to dict to match the argument type for CORDA reconstruction."
   ]
  },
  {
   "cell_type": "code",
   "execution_count": 8,
   "metadata": {},
   "outputs": [
    {
     "name": "stdout",
     "output_type": "stream",
     "text": [
      "{'EX_5adtststerone_e': -1, 'EX_5fthf_e': -1, 'EX_5mthf_e': -1, '2AMADPTm': 0, '2OXOADPTm': 0, '34DHPHEt': 0, '4HBZCOAFm': -1, '4HBZFm': -1, '4MOPt2im': -1, '5ADTSTSTERONEGLCtr': -1, '5ADTSTSTERONEte': -1, '5FTHFt2_1': 1, 'A4GALTc': 1, 'AACTtm': -1, 'ABTArm': 2, 'ABUTt2rL': 2, 'ACACT10m': 1, 'ACETONEt2': 1, 'ACGAMK': 2, 'ACGAMPM': 2, 'ACGAMtly': -1, 'ACNML': -1, 'ACOAO7p': 3, 'ACONTm': 2, 'ADEt': 1, 'ADK3': 1, 'ADK3m': 2, 'ADSL2r': 1, 'AGTim': 0, 'AHANDROSTANGLCte': 2, 'AIRCr': 3, 'AKGMALtm': 1, 'ALASm': 0, 'ALCD22_D': 0, 'ALCD2y': 2, 'ALR2': 1, 'AMETt2m': 1, 'AMPDA': 0, 'ANDRSTRNGLCte': 2, 'ANDRSTRNGLCtr': -1, 'ANDRSTRNtr': -1, 'ASNNm': 0, 'ASNS1': 1, 'ASPGLUm': 1, 'ASPTAm': 2, 'BILGLCURte': 2, 'ATPasel_1': 0, 'C160CPT1': 0, 'C160CPT2': 1, 'C161CPT12': 0, 'C180CPT1': 0, 'C226COAtx': -1, 'C226CPT1': 0, 'C226CPT2': 1, 'C3STDH1r': 1, 'C4STMO1r': 2, 'CATm': 2, 'CATp': 2, 'CDIPTr': 2, 'CHLP': 0, 'CHOLK': 0, 'CITRtm': 0, 'CITtam': 1, 'CO2tm': -1, 'COAtim': 2, 'COQ3m': 0, 'COQ6m': 1, 'COQ7m': 1, 'CRNCAR3tp': -1, 'CRNt': 2, 'CRNtuNa': 2, 'CSAPASEly': -1, 'CSCPASEly': -1, 'CSEPASEly': -1, 'CSNAT2m': 2, 'CSNAT2x': 2, 'CSNAT3x': 2, 'CSNATm': 2, 'CSNATp': 2, 'CSPG_Atly': -1, 'CSPG_Ctly': -1, 'CSPG_Dtly': -1, 'CYSO': 0, 'CYStec': 1, 'CYTDt': 1, 'CYTK12': 3, 'CYTK14': 3, 'CYTK3': 1, 'CYTK4': 1, 'CPK1': 3, 'CYTK7': 3, 'DAG_HSter': -1, 'DAGK_hs': 0, 'DATPtn': -1, 'DCTPtn': -1, 'DCYTt': 1, 'DECDPtm': -1, 'DEDOLP2_L': -1, 'DGSNt': 1, 'DHDPBMTm': 0, 'DHFtm': -1, 'DIGALSIDEtl': -1, 'D_LACt2': 0, 'DM_dem2emgacpail_prot_hs_r': -1, 'DM_kdn_c': -1, 'DM_Ser_Gly_Ala_X_Gly_l': -1, 'DMATTx': 2, 'DMHPTCRNCPT2': -1, 'DMHPTCRNte': -1, 'C110CPT2m': -1, 'DNDPt20m': 0, 'DNDPt21m': 0, 'DNDPt28m': 0, 'DNDPt38m': 0, 'DOLPMT_U': 1, 'DOLP_Uter': -1, 'DURIt': 1, 'DUTPDPm': 1, 'ECOAH9m': 2, 'ESTRIOLGLCte': 2, 'ESTRIOLtr': -1, 'EX_10fthf7glu_e': -1, 'EX_34dhphe_e': -1, 'EX_7dhf_e': -1, 'EX_7thf_e': -1, 'EX_acetone_e': -1, 'EX_ahandrostanglc_e': -1, 'EX_andrstrn_e': -1, 'EX_andrstrnglc_e': -1, 'EX_arach_e': -1, 'EX_chol_e': -1, 'EX_cholate_e': -1, 'EX_chtn_e': -1, 'EX_crn_e': -1, 'EX_cspg_c_e': -1, 'EX_cspg_e_e': -1, 'EX_dag_hs_e': -1, 'EX_dhf_e': -1, 'EX_dmhptcrn_e': -1, 'EX_dopa_e': -1, 'EX_ha_e': -1, 'EX_hspg_e': -1, 'EX_imp_e': -1, 'EX_lac__D_e': -1, 'EX_cysi__L_e': -1, 'EX_leuktrB4_e': -1, 'EX_lnlc_e': -1, 'EX_ocdca_e': -1, 'EX_octa_e': -1, 'EX_phyt_e': -1, 'EX_ps_hs_e': -1, 'EX_strdnc_e': -1, 'EX_tststeroneglc_e': -1, 'FACOAL170': 2, 'FACOAL80': 3, 'FADH2tru': -1, 'FADtru': -1, 'FALDH': 2, 'FAOXC11': 2, 'FAOXC16080x': 1, 'FAOXC180x': 1, 'FAOXC18480m': 1, 'FAOXC200180x': 1, 'FAOXC2051843m': 1, 'FAOXC2051843x': 1, 'FAOXC226205m': 1, 'FATP1t': 1, 'FORMCOAtx': -1, 'FORtr': -1, 'FRDPtc': -1, 'FTHFDH': 0, 'FUMAC': 1, 'FUMtm': 1, 'G5SDym': 3, 'G6PDH2er': 1, 'GACPAILter': -1, 'GALSIDEtl': -1, 'GALtly': -1, 'GARFT': 2, 'GCCam': 0, 'GFUCS': 1, 'GGH_7THFe': 1, 'GGLUCT': 2, 'GHMT2rm': 1, 'GLAl': 1, 'GLCAASE4ly': 2, 'GLCAASE6ly': 2, 'GLCAASE7ly': 2, 'GLCAASE8ly': 0, 'GLCAASE9ly': 2, 'GLCNACASE5ly': 1, 'GLGNS1': 0, 'GLNtm': -1, 'GLPASE1': 0, 'GLPASE2': 0, 'GLYBt4_2_r': 0, 'GLYt7_211_r': 1, 'GLYtm': -1, 'GNDer': 2, 'GPIDA2er': 2, 'GTHS': 1, 'HCO3Em': 0, 'H2O2t': -1, 'H2O2tm': -1, 'H2Oter': -1, 'H3MTer_U': 1, 'H4ET3er': 1, 'H4ETer': 2, 'H6ET3er': 1, 'HACD1x': 1, 'HACD9m': 1, 'HAS1': 0, 'HAtly': -1, 'HBZOPT10m': 1, 'HDD2COAtx': -1, 'HMGCOASm': 1, 'HMGCOAtm': -1, 'HMGCOAtx': -1, 'HMGLm': 0, 'HMGLx': 1, 'HPDCACRNCPT1': 0, 'HPDCACRNCPT2': 1, 'HS2ly': 2, 'HSAT2ly': -1, 'HSAT3ly': -1, 'HSD17B42x_1': 3, 'HSD3B7P': 1, 'HSPASEly': -1, 'Htx': -1, 'ICDHyr': 2, 'IDOAASE3ly': 1, 'IDOURtly': 1, 'INOSTO': 0, 'INSTt2': 1, 'INSTt4': 3, 'IPDPtx': -1, 'KCC2t': 2, 'KHK': 0, 'LALDO': 2, 'LEUTAm': 1, 'TTCCOAtx': -1, 'LINKDEG1ly': -1, 'LINKDEG2ly': -1, 'LINKDEG3ly': -1, 'L_LACtcm': 0, 'LSTO1r': 2, 'LTDCL': 0, 'MACACI': 1, 'MALTe': 1, 'MALtm': 1, 'MALTt1r': 2, 'MDRPD': -1, 'ME1m': 2, 'MTHFD2m': 2, 'NACHEX1ly': 2, 'NACHEX27ly': 2, 'NACHEXA3ly': 2, 'NACHEXA4ly': 2, 'NACHEXA5ly': 2, 'NACHEXA7ly': 2, 'NADPtxu': -1, 'NDP8': 1, 'NDPK4m': 2, 'NDPK4n': 0, 'NDPK6m': 1, 'NDPK7m': 2, 'NDPK7n': 0, 'NDPK9n': 0, 'NICRNS': -1, 'NTD1m': 0, 'NTD5m': 0, 'O16G2e': 0, 'O2Stm': -1, 'O2Stn': -1, 'O2ter': -1, 'O2tn': -1, 'OCBTm': 0, 'ORNt4m': 0, 'P5CRm': 2, 'PCHOLP_hs': 1, 'PCRNtm': 1, 'PDHm': 0, 'PEROXx': 1, 'PGCD': 1, 'PGLer': 3, 'PGLYCt': -1, 'PHYHx': 1, 'PHYTt': -1, 'PIACGT': 1, 'PPAer': 0, 'PPAm': 2, 'PPItr': -1, 'PRASCSi': 3, 'PRISTCOAtx': -1, 'PRISTtx': -1, 'PROD2m': 0, 'PROSTGE2t2': 0, 'PYDXPP': 1, 'PYNP2r': 0, 'PYRt2p': 1, 'S2TASE1ly': 3, 'S2TASE2ly': 3, 'S2TASE5ly': -1, 'S3TASE3ly': -1, 'S4TASE1ly': 1, 'S4TASE2ly': 1, 'S6TASE1ly': 3, 'S6TASE2ly': 3, 'S6TASE3ly': 3, 'SACCD3m': 2, 'SADT': 1, 'SBTD_D2': 2, 'SBTR': 1, 'SERLYSNaex': 0, 'SFGTHi': 2, 'SMS': 2, 'SO4t4_2': 1, 'SO4tl': -1, 'SPODMe': 0, 'SQLEr': 2, 'SQLSr': 2, 'STRDNCCPT1': 0, 'STRDNCt': -1, 'SUCCtp': -1, 'SUCD1m': 1, 'SULFOX': 1, 'THFtm': -1, 'THYMDtm': 2, 'TMABADH': 3, 'TMLYSOX': 1, 'TMNDNCCPT1': 0, 'TRDR2': 2, 'TSTSTERONEGLCte': 2, 'TSTSTERONEGLCtr': -1, 'TSTSTERONEt': -1, 'TSTSTERONEtr': -1, 'UDPGD': 3, 'UGT1A10r_1': 0, 'UGT1A4r': 0, 'UGT1A8r': 0, 'UGT1A9r': 0, 'UMPK3': 3, 'UMPK4': 3, 'UMPK7': 3, 'URIt': 1, 'UROLACer': -1, 'XOLESTte': -1, 'XYLK': 1, 'XYLUR': 1, 'EX_4abutn_e': -1, 'EX_ahdt_e': -1, 'EX_isomal_e': -1, 'EX_HC00250_e': -1, 'EX_HC01361_e': -1, 'GDR': 2, 'r0027': 1, 'GTHRDH_syn': 0, 'SPTc': 0, 'PYK2': 0, 'SSALxm': 1, 'DHFR2i': 1, 'r0246': 1, 'r0249': 1, 'GMPR': 0, 'GMPS': 2, 'ACOAR7m': 1, 'r0358': 0, 'PYDXNO': 2, 'r0390_1': 0, 'PHETHPTOX': 0, 'r0407': 0, 'r0408': 3, 'r0409': 3, 'r0437': 1, 'r0463': 2, 'RNTR2': 1, 'r0480': -1, 'HMGCOAR': 2, 'r0514': 1, 'THFATm': 1, 'BETALDHx': 2, 'r0568': 2, 'AASAD3': 2, 'HPROxm': 2, 'r0627': 1, 'r0633': 1, 'ACACT7m': 1, 'PRAIS': 2, 'r0698': 1, 'r0716_1': 1, 'HACD6m': 1, 'ACACT5m': 1, 'r0730': 1, 'r0731': 1, 'r0774': 1, 'LNS14DMr': 2, 'r0782': 1, 'r0788': -1, 'r0789': -1, 'r0801': 3, 'r0819': 1, 'r0822': 1, 'r0840': -1, 'r0841': -1, 'r0885': 1, 'r0892': -1, 'MALICITtm': 1, 'r0915': 1, 'r0926': -1, 'r0940': -1, 'r0954': 1, 'r0962': -1, 'r0983': 0, 'r0984': 0, 'CITt4_1': 0, 'r1117': -1, 'r1134': -1, 'r1143': 0, 'r1163': 0, 'r1253': 0, 'r1254': 0, 'PPCOAtm': -1, 'r1292': -1, 'r1400': -1, 'r1421': -1, 'r1497': 0, 'r1671': 3, 'r2080': 1, 'r2081': 1, 'r2093': 1, 'r2094': 1, 'r2101': 1, 'r2104': 1, 'r2111': 1, 'r2150': 0, 'r2193': 0, 'r2202': 0, 'r2313': 1, 'r2317': 1, 'RE0512X': 1, 'RE0568C': 3, 'G6Pt6er': 1, 'r2374': 1, 'r2375': 1, 'r2502': 1, 'r2505': 2, 'r2385': 1, 'r2516': 1, 'r2520': 1, 'EX_so3_e': -1, 'r2419': 1, 'RE0452M': -1, 'RE0453M': 2, 'RE1518X': 2, 'RE1519X': 2, 'RE1520X': 1, 'RE1522X': 1, 'RE1526X': 1, 'RE1527X': 1, 'RE1530M': 2, 'RE1533X': 2, 'RE1534X': 2, 'RE1050E': 0, 'RE2112R': 0, 'RE1233C': -1, 'RE2666C_1': -1, 'RE2346C': -1, 'RE1516X': 2, 'PYK6': 3, 'RE2998M': 3, 'RE3076X': -1, 'RE3411C_1': -1, 'RE3413C': -1, 'RE3628M': 1, 'EX_citr__L_e': -1, 'EX_cynt_e': -1, 'EX_CE5854_e': -1, 'EX_CE5853_e': -1, 'EX_CE1925_e': -1, 'C162ACBP': 2, 'PIt9': 0, 'ACRNtp': 1, 'BIOMASS_reaction': 3, '3HBCOARc': 2, 'C120CPT1': 0, 'C51CPT1': 0, 'C12DCe': -1, 'C60CPT1': 0, 'C6COAt': 2, 'C80CPT1': 0, 'EX_c12dc_e': -1, 'FAOXC16DCC14DCx': 1, 'FAOXC16DCr': 1, 'FAOXC123m': 1, 'FAOXC183C163m': 3, 'EX_c6crn_e': -1, 'EX_c8crn_e': -1, 'FAOXC101C8x': 1, 'FAOXC101x': 1, 'FAOXC102C81m': 1, 'FAOXC102m': 1, 'FAOXC103C102m': 1, 'FAOXC10C10OHm': 2, 'FAOXC61m': 1, 'FAOXC6C4x': 1, 'FAOXC12DCx': 2, 'FAOXC81C61m': 1, 'FAOXC8C6m': 1, 'TIGCRNe': -1, 'FAOXC143C123m': 3, '34DHPHELAT1tc': 1, 'FAOXTC162TC142m': 3, 'FAOXTC182TC162m': 3, 'HDCACBP': 2, 'HEXDIACtr': -1, 'HEXDICOAACBPx': 2, 'HIVCACBP': 2, 'HTDCACBP': 2, 'IVCOAACBP': 2, 'IVCRNe': -1, 'LGNCCOAtcx_1': 0, 'LEULEULAPc': 2, 'LEULEUPEPT1tc': 0, 'LINOFATPtc': 1, 'ORNLEUrBATtc': 0, 'EX_leuleu_e': -1, 'PHEyLATthc': 1, 'EX_q10h2_e': -1, '3HCO3_NAt': 0, 'FRDPtcr': -1, 'G6PDH2c': 1, 'CHSTEROLtrc': -1, 'CRNtp': -1, 'Coqe': -1, 'DGTPtm_cho': -1, 'DSREDUCr': 3, 'LACLt': -1, 'DTMPKm': 1, 'EX_4hpro_LT_e': -1, 'SK_5HPET_c': -1, 'q10h2tc': -1, '34HPPte': -1, 'EX_dcmp_e': -1, '4HPRO_LTte': -1, '5MTAte': -1, '5OXPROt': -1, 'AICARte': -1, 'DM_Lcystin_c': -1, 'EX_34hpp_e': -1, 'EX_glyald_e': -1, 'PPItm': -1, 'Q10H2e': -1, 'EX_aicar_e': -1, 'IDOURte': -1, 'EX_idour_e': -1, 'TYRB0AT3tc': 0, 'LKYNRtr': 1, 'GALt4': 0, 'GLCt4': 0, 'EX_Lkynr_e': -1, 'ETHAMPtr': -1, 'EX_3pg_e': -1, 'GLCURtr': -1, '3PGtr': -1, 'EX_2pg_e': -1, 'ACRNte': 2, 'PCRNte': 2, 'STCRNte': 2, 'EX_acrn_e': -1, 'EX_lneldccrn_e': -1, 'BIOMASS_maintenance': 3, 'BIOMASS_maintenance_noTrTr': 3, '7DHCHSTEROLtd': -1, 'H2OGLYAQPt': 0, 'EX_C04717_e': -1, 'LGNCFATPtc': 1, 'EX_hexdiac_e': -1, 'EX_lthstrl_e': -1, 'EX_mev__R_e': -1, 'GLYCLTt': -1, 'FORGLUt': -1, 'EX_glyclt_e': -1, 'EX_ileargile_e': -1, 'EX_leuasnasp_e': -1, 'EX_thrthrarg_e': -1, 'EX_lysargleu_e': -1, 'EX_argarglys_e': -1, 'EX_trpglngln_e': -1, 'EX_trptyrtyr_e': -1, 'EX_tyrcysthr_e': -1, 'EX_tyrphetyr_e': -1, 'EX_tyrvalmet_e': -1, 'EX_proargcys_e': -1, 'EX_prohistyr_e': -1, 'ARGARGLYSt': 0, 'ARGARGMETt': 0, 'ASNASNARGt': 0, 'ASPMETASPt': 0, 'ASPPROLYSt': 0, 'ASPVALASNt': 0, 'ILEASNHISt': 0, 'LEUASNASPt': 0, 'EX_argtyrval_e': -1, 'LYSARGLEUt': 0, 'LYSLYSLYSt': 0, 'LYSTYRILEt': 0, 'EX_asnasnarg_e': -1, 'THRILEARGt': 0, 'TRPASPASPt': 0, 'TRPGLNGLNt': 0, 'EX_asncyscys_e': -1, 'PROHISTYRt': 0, 'TYRPHETYRt': 0, 'TYRVALMETt': 0, 'EX_asnpheasp_e': -1, 'VALLYSTYRt': 0, 'EX_asntyrthr_e': -1, 'ILEARGILEr': -1, 'ARGARGLYSr': -1, 'ARGARGMETr': -1, 'ASNASNARGr': -1, 'LEUTYRTYRr': -1, 'LYSLYSLYSr': -1, 'ASPMETASPr': -1, 'ASPPROLYSr': -1, 'ASPVALASNr': -1, 'PROARGCYSr': -1, 'CYSTYRASNr': -1, 'GLNASNGLNr': -1, 'EX_aspvalasn_e': -1, 'PROHISTYRr': -1, 'EX_cystyrasn_e': -1, 'EX_glnasngln_e': -1, 'ODECRNtr': -1, 'PMTCRNtr': -1, 'SERGLYGLUr': -1, 'THRASNTYRr': -1, 'THRILEARGr': -1, 'HXAt3': -1, 'EX_hxa_e': -1, 'TYRCYSTHRr': -1, 'TYRVALMETr': -1, 'SK_for_c': -1, 'EX_f1a_e': -1, 'r2444': 1, 'EX_acgal_e': -1, 'UNK3': -1, 'AMPTASECG': 2, 'ARGN': 0, 'ASPTA': 1, 'SK_glygn2_c': -1, 'BPNT': 1, 'SK_Tyr_ggn_c': -1, 'SK_c226coa_c': -1, 'SK_lnlccoa_c': -1, 'CTPS1': 2, 'CYSTGL': 0, 'CYSTS': 0, 'SK_pmtcoa_c': -1, 'FTHFCL': 0, 'SK_pydx_c': -1, 'DHFR': 1, 'SK_pydxn_c': -1, 'DHPR': 2, 'DMATT': 2, 'DTMPK': 1, 'EX_acac_e': -1, 'GALUi': 2, 'GK1': 2, 'SK_thf_c': -1, 'GLYLEUHYDROc': 0, 'GLYLEUPEPT1tc': 0, 'GLYPROPRO1c': 1, 'EX_asp__L_e': -1, 'EX_gal_e': -1, 'EX_glu__L_e': -1, 'EX_glyb_e': -1, 'EX_glyleu_e': -1, 'GRTT': 2, 'GUAPRT': 1, 'HCO3E': 0, 'EX_h2o_e': -1, 'EX_lac__L_e': -1, 'EX_leu__L_e': -1, 'EX_lys__L_e': -1, 'EX_o2_e': -1, 'HMBS': 1, 'IMPD': 2, 'LEUTA': 2, 'EX_orn_e': -1, 'EX_pi_e': -1, 'MAN1PT2': 1, 'SK_tmndnccoa_c': -1, 'SK_vitd3_c': -1, 'EX_succ_e': -1, 'EX_thymd_e': -1, 'EX_urea_e': -1, 'EX_uri_e': -1, 'NDPK4': 0, 'NDPK6': 0, 'UDPG4E': 1, 'DXTRNt': -1, 'O2t': -1, 'EX_dxtrn_e': -1, 'PGM': 1, 'UREAt': 0, 'PGMT': 2, 'URIDK2r': -1, 'PPBNGS': 2, 'PROt2r': 0, 'ASNN': 0, 'PRPPS': 0, 'r0398': 2, 'PUNP3': 1, 'PUNP5': 1, 'EX_gly_e': -1, 'RNDR2': 1, 'RNDR3': 1, 'RNDR4': 1, 'EX_gln__L_e': -1, 'EX_phe__L_e': -1, 'EX_tyr__L_e': -1, 'TALA': 2, 'EX_arg__L_e': -1, 'TKT1': 0, 'EX_for_e': -1, 'EX_nh4_e': -1, 'EX_ac_e': -1, 'TPI': 3, 'UAGDP': 1, 'AICART': 2, 'AMANK': 2, 'SK_dchac_c': -1, 'CITL': 0, 'MALT': 1, 'CYTK1': 3, 'MI1PP': 1, 'ACACT1r': 1, 'EX_glyc_e': -1, 'ACONT': 2, 'PFK': 1, 'ACS': 2, 'PRFGS': 1, 'PYDXNK': 3, 'PYK': 0, 'THRD_L': 1, 'TMDS': 0, 'EX_ptrc_e': -1, 'GALT': 1, 'GLYK': 0, 'XYLt': 2, 'GLYALDDr': 1, 'ARGORNt7': 3, 'EX_pyr_e': -1, 'IMPC': 2, 'PYRt2': 1, 'EX_4abut_e': -1, 'EX_ade_e': -1, 'EX_etoh_e': -1, 'ABUTt2r': 2, 'ETOHt': -1, 'EX_acald_e': -1, 'FTCD': 0, 'T4HCINNMte': 0, 'AHANDROSTANte': 1, 'GLCRt1': 0, '2OBUTt': 2, 'MLTHFte': 1, 'EX_ahandrostan_e': -1, 'PTRCARGte': 1, 'MLTHFte2': 1, 'T4HCINNMtm': -1, 'DSMSTEROLtr': -1, 'DSMSTEROLte': -1, 'EX_T4hcinnm_e': -1, 'SQLte': -1, 'EX_trypta_e': -1, 'EX_CE2006_e': -1, 'EX_C05769_e': -1, 'EX_C05770_e': -1, 'PPBNGte': -1, 'EX_ppbng_e': -1, 'UDPG3DOPA': 1, 'DOPA4GLCURt': 2, 'DOPA3GLCURt': 2, 'GLCNte': -1, 'EX_hdd2crn_e': -1, 'AACTte': -1, 'EX_aact_e': -1, 'GBA2e': 2, 'EX_galgluside_hs_e': -1, 'FACOAE120': 0, 'HMR_0354': 0, 'HMR_0868': 0, 'HMR_1084': 1, 'HMR_1095': -1, 'HMR_0873': 0, 'HMR_1465': 2, 'SMO': 2, 'LNSTLS': 2, 'HMR_1479': 2, 'HMR_1502': 1, 'HMR_1503': 1, 'HMR_1505': 1, 'CHLSTI_1': 1, 'DSMSTOLR': 3, 'HMR_1536': 2, 'HMR_1538': 2, 'HMR_1539': 2, 'HMR_1543': 1, 'HMR_1547': 1, 'HMR_1549': 1, 'HMR_1550': 1, 'HMR_1551': 1, 'HMR_1706': 3, 'HMR_0803': 1, 'HMR_2287': 1, 'HMR_2603': 0, 'HMR_2604': 1, 'HMR_2633': 0, 'HMR_2634': 0, 'HMR_2673': 0, 'HMR_2711': 0, 'HMR_2722': 0, 'HMR_2731': 0, 'HMR_3116': 2, 'KAT180_m': 1, 'HMR_3102': 2, 'HMR_3106': -1, 'HMR_2819': 2, 'HMR_3321': 2, 'HMR_2851': 2, 'HMR_2861': 2, 'HMR_2865': 2, 'HMR_2884': 2, 'ASPT': 2, 'HMR_3915': 2, 'HMR_3951': -1, 'UPPRT': 1, 'HMR_2888': 2, 'XYLR': 0, 'HMGCOARx': 2, 'CHOLD': 2, 'HMR_6907': 1, 'HMR_6908': 1, 'HMR_6909': 1, 'HMR_5387': 2, 'HMR_5389': 2, 'METOX': 0, 'HMR_6500': -1, 'HMR_7748': 3, 'HMR_7749': 3, 'HMR_9176': -1, 'HMR_8374': -1, 'HMR_8418': -1, 'HMR_9638': -1, 'HMR_9720': -1, 'HMR_9640': -1, 'DCA24GSr': 0, 'DCA3GSr': 0, 'HMR_9726': 0, 'DM_dca24g_c': -1, 'DM_dca3s_c': -1, 'C14STR': 1, 'HMR_1467': 2, 'HMR_1500': 1, 'EX_glc__D_e': -1, 'CRVSM23hr': 2, 'CVM1GLUChc': 0, 'SMVACIDhep': 2, 'EX_caproic_e': -1, 'EX_dolichol__L_e': -1, 'SK_his__L_c': -1, 'SK_lys__L_c': -1, 'SK_thr__L_c': -1, 'SK_val__L_c': -1, 'SK_ala__L_c': -1, 'SK_arg__L_c': -1, 'SK_asn__L_c': -1, 'SK_pro__L_c': -1, 'SK_tyr__L_c': -1, 'DM_4abut_c': -1, 'EX_C01601_e': -1, 'PROTEIN_BS': -1, 'EX_M01111_e': -1, 'CYOOm2i': 0, 'CO2tp': -1, 'EX_5adtststeroneglc_e': -1, '34HPPOR': 0, '3DPHBH1': -1, '3DPHBH2': -1, '3HBCDm': 2, '3HLYTCL': 0, '3SALAASPm': 1, '3SALATAi': 1, '3SALATAim': 2, '3SPYRSP': -1, '3SPYRSPm': -1, '4ABUTtm': -1, '5ADTSTSTERONEGLCte': 2, '5ADTSTSTERONEtr': -1, '5AOPtm': -1, '5MTHFt': 0, 'AATA': 0, 'ACACT1m': 1, 'ACACT1x': 1, 'ACACtx': -1, 'ACETONEt2m': 1, 'ACGALtly': -1, 'ACGAM6PS': 2, 'ACGPID': 1, 'ACITL': 3, 'ACNAM9PL': 1, 'ACNAM9PL2': 1, 'ACNAMPH': 1, 'ACSm': 2, 'ACTLMO': 0, 'ACTNMO': 0, 'ADCim': -1, 'ADK1m': 2, 'ADSK': 1, 'ADSL1r': 1, 'AHANDROSTANGLCtr': -1, 'AKGDm': 2, 'AKGtp': -1, 'ALATA_L': 1, 'ALDD21': 2, 'ALOX5': 1, 'ALOX52': 1, 'AMPTASECGe': 2, 'AMY1e': 0, 'ANDRSTRNte': -1, 'AOBUTDsm': -1, 'ARACHCPT1': 0, 'ARACHCPT2': 1, 'ARTFR208': -1, 'ASNtm': -1, 'ATP2ter': -1, 'BILGLCURtr': -1, 'BILIRUBtr': -1, 'BMTer_U': 1, 'C14STRr': 1, 'C161CPT22': 1, 'C180CPT2': 1, 'C3STDH1Pr': 1, 'CBPSam': 1, 'CGLYt3_2': 1, 'CHAT': 0, 'CHOLATEt': 0, 'CHOLtu': 0, 'CHTNASE': 0, 'CLS_hs': 2, 'CO2ter': -1, 'COAtp': -1, 'COAtr': -1, 'COQ5m': -1, 'COUCOAFm': -1, 'CRNtx': -1, 'CSDPASEly': -1, 'CSm': 3, 'CSPG_Etly': -1, 'CYSTA': 1, 'CYSTSERex': 0, 'CYTDK1': 1, 'CYTK10': 3, 'CYTK11': 3, 'CYTK13': 3, 'CYTK2_1': 3, 'CYTK9': 3, 'DAGt': -1, 'DDPGAm': -1, 'DEDOLP1_L': -1, 'DEDOLR_L': -1, 'DESAT18_8': 2, 'DGTPtn': -1, 'DHCR241r': 3, 'DHCR242r': 0, 'DHCR243r': 3, 'DHCR71r': 1, 'D_LACtm': 1, 'DM_dctp_m': -1, 'DM_dttp_m': -1, 'DM_ethamp_r': -1, 'DM_gpi_sig_r': -1, 'DMHPTCRNt': -1, 'DNDPt23m': 0, 'DOLMANP_Uter': -1, 'DPHMBDCm': -1, 'DPPS': -1, 'DTTPtn': -1, 'EBP1r': 1, 'EBP2r': 1, 'ECOAH1m': 1, 'ECOAH1x': 1, 'EHGLAT2m': 2, 'EHGLATm': 2, 'ELAIDCPT1': 0, 'ELAIDCPT2': 1, 'ESTRIOLGLCtr': -1, 'EX_10fthf_e': -1, 'EX_ach_e': -1, 'EX_arachd_e': -1, 'EX_atp_e': -1, 'EX_bilglcur_e': -1, 'EX_bilirub_e': -1, 'EX_chsterol_e': -1, 'EX_cspg_a_e': -1, 'EX_cspg_d_e': -1, 'EX_estriolglc_e': -1, 'EX_fucgalfucgalacglcgalgluside_hs_e': -1, 'EX_h2o2_e': -1, 'EX_hco3_e': -1, 'EX_hdca_e': -1, 'EX_hpdca_e': -1, 'EX_inost_e': -1, 'EX_lgnc_e': -1, 'EX_o2s_e': -1, 'EX_pe_hs_e': -1, 'EX_pglyc_hs_e': -1, 'EX_strch1_e': -1, 'EX_thf_e': -1, 'EX_tststerone_e': -1, 'EX_utp_e': -1, 'EX_xolest_hs_e': -1, 'FACOAL191': 1, 'FACOAL206': 1, 'FAOXC161802m': 1, 'FAOXC170m': 2, 'FAOXC180': 1, 'CRNCARtm': 1, 'r2434': 1, 'CARN160t_m': 1, 'r2437': 1, 'FAOXC18480x': 1, 'FAOXC200180m': 1, 'r2499': 1, 'r2501': 1, 'r2521': -1, 'r2539': -1, 'GNK': -1, 'FAOXC226': 1, 'RE0453N': 0, 'FAOXC226205x': 1, 'RE2112C': -1, 'FAOXC240200x_1': 1, 'RE2327C': -1, 'RE2407C': -1, 'RE2410C': -1, 'AKGCITtm': 1, 'RE2541E': 0, 'RE2640C': 0, 'RE2649C': 0, 'r2403': 0, 'r2420': 1, 'FAOXC80': 1, 'RE1517X': 2, 'RE1518M': 0, 'RE1521X': 1, 'RE1523X': 1, 'RE1525X': 1, 'RE1530C': -1, 'RE1531X': 2, 'RE1532X': 2, 'RE3273C_1': 1, 'RE1573X': 1, 'RE3301C_1': 1, 'RE3381E': 0, 'RE3417C_1': -1, 'RE3420C_1': -1, 'HSD3B7': 0, 'SCP3x': 3, 'EX_CE1950_e': -1, 'EX_CE1926_e': -1, 'EX_crm_hs_e': -1, '2MB2COAc': 2, 'BCRNe': -1, 'EX_3bcrn_e': -1, 'EX_c51crn_e': -1, 'EX_ddeccrn_e': -1, 'EX_ivcrn_e': -1, 'FAOXC101C8m': 1, 'FAOXC102C103m': 2, 'TTDCPT1': 0, 'C141ACBP': 2, 'C142ACBP': 2, 'GLNyLATthc': 1, 'GLYPROPEPT1tc': 0, 'GLYSARCNc': 3, 'C4OHc': 0, 'C50CPT1': 0, 'C6CRNe': -1, 'C6CRNtcx': 1, 'C8CRNe': -1, 'C9BRxtc': 1, 'DDECCRNe': -1, 'EX_q10_e': -1, 'FATP4t': 0, 'FADH2ETC': 1, 'GLYCt': -1, 'IPDDI': 0, 'MEVK1': 1, 'PGLc': 1, 'PMEVK': 1, 'RPEc': 2, 'TRPB0AT3tc': 0, 'LNELDCCRNte': 2, 'ODECRNte': 2, 'PMTCRNte': 2, 'HDCECRNte': 2, 'EX_stcrn_e': -1, 'FAOXC8C6x': 1, 'FAOXTC101TC102m': 2, 'FAOXTC102C101m': 1, 'FAOXTC122TC101m': 1, 'FAOXTC122m': 1, 'FAOXTC142TC122m': 3, 'GLUTCOAACBP': 2, 'HDDACBP': 2, 'HDECAACBP': 2, 'HDECEACBP': 2, 'HEXCOAACBP': 2, 'HEXDICOAACBP': 2, 'HOCDACBP': 2, 'HOCTDACBP': 2, 'OCTDEC2ACBP': 2, 'FACOAE60': -1, 'PEHSFABPe': 0, '4TMEABUTNt1': -1, '4TMEABUTNt2': -1, 'DPMVD': 1, 'EX_7dhchsterol_e': -1, 'q10tm': -1, 'DM_fol_c': -1, 'EX_5mta_e': -1, 'EX_5oxpro_e': -1, 'GLYALDtr': -1, '2PGtr': -1, 'DCMPtr': -1, 'EX_forglu_e': -1, 'L2AADPtr': -1, 'UDPGLCURtr': -1, 'IMPtr': -1, 'EX_hxcoa_e': -1, 'HC02149td': -1, 'HEXDIACtd': -1, 'HXCOAte': -1, 'LTHSTRLt': -1, 'MEV_Rt': -1, 'EX_4tmeabutn_e': -1, 'SACCRP_Lte': -1, 'SACCRP_Ltm': -1, 'TMLYStd': -1, 'C03990t': 0, 'C04717td': -1, 'EX_ileasnhis_e': -1, 'EX_leutyrtyr_e': -1, 'EX_lyslyslys_e': -1, 'EX_lystyrile_e': -1, 'ARGTYRVALt': 0, 'ASNCYSCYSt': 0, 'ASNPHEASPt': 0, 'ASNTYRTHRt': 0, 'CYSTYRASNt': 0, 'EX_saccrp__L_e': -1, 'EX_tmlys_e': -1, 'GLNASNGLNt': 0, 'PROARGCYSt': 0, 'EX_estriol_e': -1, 'EX_ddca_e': -1, 'SERGLYGLUt': 0, 'EX_serglyglu_e': -1, 'ARGSERSERr': -1, 'ARGTYRVALr': -1, 'ASNCYSCYSr': -1, 'ASNPHEASPr': -1, 'ASNTYRTHRr': -1, 'EX_thrasntyr_e': -1, 'EX_thrilearg_e': -1, 'EX_trpaspasp_e': -1, 'HDCECRNtr': -1, 'LNELDCCRNtr': -1, 'STCRNtr': -1, 'LHCYSTIN': -1, 'LHCYSTINt': -1, 'EX_Lhcystin_e': -1, 'MALOAAtm': -1, 'EX_vallystyr_e': -1, 'MLTHFtm': -1, 'PSDm_hsc': -1, 'SK_akg_c': -1, 'ILEARGILEt': 0, 'UGT1A10c': -1, 'ACGALtr': -1, 'CO2t': -1, 'DGK1': 2, 'ENO': 0, 'EX_akg_e': -1, 'EX_asn__L_e': -1, 'LEUTYRTYRt': 0, 'THRASNTYRt': 0, 'THRTHRARGt': 0, 'EX_co2_e': -1, 'EX_cytd_e': -1, 'EX_dcyt_e': -1, 'EX_dgsn_e': -1, 'EX_duri_e': -1, 'EX_glypro_e': -1, 'EX_h_e': -1, 'EX_ile__L_e': -1, 'EX_met__L_e': -1, 'TRPTYRTYRt': 0, 'TYRCYSTHRt': 0, 'EX_pro__L_e': -1, 'EX_ser__L_e': -1, 'EX_so4_e': -1, 'EX_val__L_e': -1, 'FBA': 0, 'PGI': 3, 'PGK': 0, 'ILEASNHISr': -1, 'PMANM': 1, 'PPA': 1, 'PPM': 2, 'LEUASNASPr': -1, 'LYSARGLEUr': -1, 'LYSTYRILEr': -1, 'PSERT': 0, 'PSP_L': 1, 'RNDR1': 1, 'RPI': 1, 'SPODM': 2, 'TKT2': 0, 'TMDK1': 1, 'LDH_L': 0, 'LGTHL': 3, 'MI3PP': 1, 'ORNDC': 1, 'PYDAMK': 3, 'TYRTA': 1, 'THRTHRARGr': -1, 'EX_ppa_e': -1, 'DCMPDA': 2, 'FTHFLi': 2, 'ACALDt': -1, 'AACOAT': 2, 'MTRI': -1, 'TRPASPASPr': -1, 'TRPGLNGLNr': -1, 'TRPTYRTYRr': -1, 'TYRPHETYRr': -1, 'VALLYSTYRr': -1, 'DM_C02712_c': -1, 'F1Ate': -1, 'LTHSTRLtr': -1, 'TRYPTAte': 0, 'HDD2CRNte2': 2, 'SK_chol_c': -1, 'SK_cholate_c': -1, 'SK_coa_c': -1, 'FBA2': 0, 'FUM': 2, 'G3PD1ir': 1, 'GALt2_2': 1, 'GAPD': 0, 'GHMT2r': 1, 'EX_sql_e': -1, 'GMAND': 1, 'GMPS2': 2, 'MAN6PI': 1, 'MTHFC': 1, 'MTHFD': 2, 'UMPK': 3, 'C05769te2': -1, 'C05770te3': -1, 'UPP3S': 1, 'UPPDC1': 1, 'URIt2': 1, 'EX_ala__L_e': -1, 'ALAt2r': 0, 'EX_his__L_e': -1, 'UDPG4DOPA': 1, 'NTD8': 0, 'NTD9': 0, 'NTD11': 0, 'GLYCK': 1, 'ABUTD': 3, 'AGDC': 1, 'CYTK2': 3, 'EX_cit_e': -1, 'EX_fol_e': -1, 'EX_glcr_e': -1, 'EX_glcur_e': -1, 'EX_trp__L_e': -1, 'EX_ura_e': -1, 'EX_xyl__D_e': -1, 'G6PDA': 1, 'GALKr': 1, 'HMR_0167': 0, 'HMR_0176': 0, 'GLUPRT': 1, 'GLYOX': 1, 'HXPRT': 1, 'LDH_D': 0, 'MTHFD2i': 1, 'CAPROICc': -1, 'HMR_0859': 1, 'HMR_0860': 0, 'HMR_0864': 0, 'CE2006te': 2, 'HMR_1976': 0, 'EX_dsmsterol_e': -1, 'EX_dopa4glcur_e': -1, 'EX_dopa3glcur_e': -1, 'HMR_2679': 0, 'CRMte': -1, 'EX_gluside_hs_e': -1, 'HMR_2712': 0, 'HMR_2713': 1, 'HMR_2715': 0, 'G3PD2': 1, 'G3PD': 3, 'HMR_3322': 1, 'HMR_1477': 2, 'HMR_1478': 2, 'HMR_1490': 1, 'HMR_1493': 1, 'HMR_1494': 1, 'HMR_1495': 1, 'HMR_1504': 1, 'HMR_1509': 1, 'HMR_1516': 2, 'HMR_1532': 2, 'HMR_1540': 1, 'HMR_1544': 1, 'HMR_1545': 1, 'HMR_1546': 1, 'HMR_1548': 1, 'HMR_1552': 1, 'HMR_1557': 2, 'LTHSTRLOR': 2, 'HMR_1565': 1, 'HMR_2114': -1, 'HMR_2281': 1, 'HMR_3520': -1, 'HMR_2602': 0, 'HMR_2611': 0, 'HMR_2644': 0, 'HMR_6910': 0, 'HMR_7757': 2, 'HMR_7758': 2, 'HMR_8510': -1, 'DCA24GSc': 0, 'DCA24Gtr': -1, 'DCA3GSc': 0, 'DCA3Gtr': -1, 'DCASULT': 0, 'DM_dca3g_c': -1, 'CARN180t_m': 0, 'HMR_2667': 0, 'HMR_3117': 1, 'HMR_3859': 0, 'HMR_3953': -1, 'HMR_4422': 1, 'HMR_4771': -1, 'CRVSM1hr': 2, 'CVM23GLUChc': 0, 'HMR_6397': 2, 'MI3PS': 1, 'HMR_9177': -1, 'HMR_9178': -1, 'HMR_9634': -1, 'SMVGLUChep': 0, 'SK_ile__L_c': -1, 'SK_leu__L_c': -1, 'SK_met__L_c': -1, 'SK_phe__L_c': -1, 'SK_trp__L_c': -1, 'SK_asp__L_c': -1, 'SK_gln__L_c': -1, 'SK_glu__L_c': -1, 'SK_ser__L_c': -1, 'SK_gly_c': -1, 'SK_4abut_l': -1, 'DM_kynate_c': -1, 'DM_protein_c': -1, 'ATPS4mi': 0, 'CYOR_u10mi': 1, 'CYOOm3i': 0, 'FCOAH2': -1, 'FOLR2': 1, 'FUCGALFUCGALACGLCGALGLUSIDEte': -1, 'FUMm': 2, 'FUMSO3tm': 1, 'G6Pter': 1, 'GALOR': 1, 'GCC2am': 0, 'GCC2bim': 0, 'GCC2cm': 0, 'GCCbim': 0, 'GCCcm': 0, 'GGH_10FTHF5GLUe': 1, 'GGH_10FTHF6GLUe': 1, 'GGH_10FTHF7GLUe': 1, 'GGH_5DHFe': 1, 'GGH_5THFe': 1, 'GGH_6DHFe': 1, 'GGH_6THFe': 1, 'GGH_7DHFe': 1, 'GGNG': 0, 'GGT_L': -1, 'GHMT3': 1, 'GLACO': 0, 'GLACter': -1, 'GLBRAN': 1, 'GLCAASE1ly': 2, 'GLCAASE5ly': 2, 'GLCNACASE1ly': 1, 'GLCNACASE2ly': 1, 'GLCNACASE3ly': 1, 'GLCNACASE4ly': 1, 'GLCURtly': 1, 'GLDBRAN': 3, 'GLU5Km': 3, 'GLUCYS': 1, 'GDHm': 0, 'GLUDym': 0, 'GluForTx': 0, 'GLUNm': 1, 'GLUt2m': 0, 'GLXtm': -1, 'GLYATm': 0, 'GLYCLTDy': 2, 'GLYCtm': -1, 'GLYOXm': 1, 'GPIAT': 1, 'GPIMTer_U': 2, 'GRTTx': 2, 'GTHOr': 2, 'GTHRDt': -1, 'GTMLTe': 1, 'H2ETer': 2, 'H2MTer_U': 1, 'H2O2tn': -1, 'H2O2tp': -1, 'H2Otly': -1, 'H2Otp': -1, 'H5MTer_U': 1, 'H6_ETer': 2, 'H7_TAer': 1, 'HACD1m': 1, 'HAS2': 0, 'HDCAter': -1, 'HGNTOR': 1, 'HIStN1': 0, 'HMGCOAS': 2, 'HPDCAt': -1, 'HPYRRy': 2, 'HS1ly': 2, 'HS3ly': 2, 'HS4ly': 2, 'HSAT1ly': -1, 'HSAT4ly': -1, 'HSPGtly': -1, 'Htr': -1, 'ICDHxm': 1, 'ICDHym': 2, 'IDOAASE1ly': 1, 'IDOAASE2ly': 1, 'ILEtec': 1, 'IPDDIx': 0, 'KDNH': -1, 'LDH_Lm': 0, 'LEUt5m': -1, 'LINKDEG4ly': -1, 'L_LACDcm': 1, 'LNELDCCPT1': 0, 'LNELDCCPT2': 1, 'LNSTLSr': 2, 'LTA4H': 2, 'MDHm': 2, 'ME2': 1, 'MI1PS': 1, 'MTAP': 2, 'MTHFDm': 1, 'NACHEX2ly': 2, 'NACHEXA1ly': 2, 'NACHEXA6ly': 2, 'NACHEXA8ly': 2, 'NADPHtxu': -1, 'NAt5': 0, 'NDP6': 1, 'NDPK10n': 0, 'NDPK1n': 0, 'NDPK2n': 0, 'NDPK3n': 0, 'NDPK5n': 0, 'NDPK6n': 0, 'NDPK8n': 0, 'NP1': 1, 'O2St': -1, 'O2Stx': -1, 'O2tm': -1, 'O2tp': -1, 'OCTAt': -1, 'OIVD1m': 1, 'ORNt3m': 0, 'ORNTArm': 3, 'P5CRxm': 2, 'PCm': 1, 'PDX5POi': 2, 'PEt': -1, 'PHCDm': 1, 'PHEtec': 0, 'PPItx': -1, 'PRAGSr': 2, 'PRISTANALtx': -1, 'PSSA1_hs': 2, 'PSt3': -1, 'PYAM5PO': 2, 'S2TASE4ly': -1, 'S3TASE1ly': -1, 'S3TASE2ly': -1, 'SACCD4m': 2, 'SCP21x': 3, 'SK_citr__L_c': -1, 'SK_pre_prot_r': -1, 'SOAT12': 2, 'SPODMn': 2, 'SPODMx': 2, 'STRDNCCPT2': 1, 'SUCCtm': 1, 'SUCCt4_2': 0, 'SUCOAS1m': 1, 'SUCOASm': 1, 'THFt2_1': 1, 'THYMDt1': 1, 'TMNDNCCPT2': 1, 'TRDR': 2, 'TRDR3': 2, 'UGT1A3r': 0, 'UGT1A7r': 0, 'UMPK2': 3, 'UMPK6': 3, 'URAt': 1, 'URIDK2m': 1, 'URIt4': 0, 'VALtec': 1, 'XYLTD_D': -1, 'XYLtly': -1, 'EX_fald_e': -1, 'EX_HC01444_e': -1, 'EX_HC01609_e': -1, 'EX_cpppg1_e': -1, 'CPS_m': 1, 'ALATA_Lm': 1, 'r0170': 2, 'r0173': 0, 'r0193': 0, 'r0210': 0, 'DHFRim': 1, 'ALCD19y': 1, 'r0280': 0, 'r0340': 1, 'ADADir': 2, 'PYDXO_1': 2, 'NAPRT': 1, 'r0393': 1, 'AGPOP': 0, 'r0450': 0, 'RNTR3': 1, 'r0509': 1, 'r0512': 1, 'FTHFCLm': 0, 'r0525': 2, 'DUTCP': 1, 'BETALDHy': 2, 'r0575': 2, 'r0595': 1, 'HPROym': 2, 'ACACT4m': 1, 'r0636': 2, 'ACOAR5m': 1, 'ACACT6m': 1, 'r0641': 0, 'r0652_1': 1, 'ECOAH5m': 1, 'r0707': 1, 'r0714_1': 1, 'r0720_1': 1, 'HACD5m': 1, 'HACD4m': 1, 'ECOAH4m': 1, 'r0732': 1, 'ACOAR4m': 1, 'r0783': 3, 'ACOAR2m': 1, 'r0795': -1, 'SUCFUMtm': 1, 'r0853': -1, 'r0970': -1, 'r0990': -1, 'r0999': -1, 'CHOLESTTDe': -1, 'r1109': -1, 'r1116': -1, 'r1135': 1, 'r1146': -1, 'AKGICITtm': 1, 'DUTUP': 1, 'r1380': 3, 'r1664': 3, 'r1670': 3, 'r1959': 3, 'r2079': 1, 'r2095': 1, 'r2097': 1, 'r2140': 0, 'r2142': 0, 'r2143': 0, 'r2197': 0, 'r2198': 0, 'r2312': 0, 'r2314': 1, 'r2338': 0, 'RE0577C': 0, 'ECOAR': -1, 'RE3051C': -1, 'RE3052C': -1, 'CHLSTD78I': 1, 'FAOXC123C102m': 1, 'FAOXC12C12OHm': 2, 'FAOXC12DCTc': 1, 'FAOXC14DCC12DCx': 1, 'FAOXC15NADPx': 1, 'FAOXC163C143m': 3, 'EX_ethamp_e': -1, 'EX_L2aadp_e': -1, 'EX_udpglcur_e': -1, 'FOLOAT1tc': 0, 'EX_argargmet_e': -1, 'EX_argserser_e': -1, 'EX_aspmetasp_e': -1, 'EX_aspprolys_e': -1, 'SK_hdca_c': -1, 'SK_lnlncacoa_c': -1, 'SK_pydam_c': -1, 'SK_stcoa_c': -1, 'EX_2obut_e': -1, 'EX_glcn_e': -1, 'ACACt2': 1, 'ADK1': 0, 'ADSS': 0, 'HMR_0795': 0, 'HMR_2817': 2, 'HMR_2821': 2, 'HMR_2857': 2, 'HMR_4772': 1}\n"
     ]
    }
   ],
   "source": [
    "# Convert to dictionary\n",
    "reaction_confidence_dict = reaction_confidence_df.set_index('Reaction_ID')['Confidence_Level'].to_dict()\n",
    "\n",
    "# Display the dictionary\n",
    "print(reaction_confidence_dict)"
   ]
  },
  {
   "cell_type": "markdown",
   "metadata": {},
   "source": [
    "Now, I recontruct the models. The `build` method in CORDA uses confidence scores to modify the emt base model, retaining high-confidence reactions and possibly excluding or down-weighting low-confidence reactions. The goal is to produce a smaller, more accurate model that reflects the specific biological context."
   ]
  },
  {
   "cell_type": "code",
   "execution_count": 9,
   "metadata": {},
   "outputs": [
    {
     "name": "stdout",
     "output_type": "stream",
     "text": [
      "build status: reconstruction complete\n",
      "Inc. reactions: 762/1657\n",
      " - unclear: 138/286\n",
      " - exclude: 247/630\n",
      " - low and medium: 301/665\n",
      " - high: 76/76\n",
      "\n"
     ]
    }
   ],
   "source": [
    "opt = CORDA(model, reaction_confidence_dict)\n",
    "opt.build()\n",
    "print(opt)"
   ]
  },
  {
   "cell_type": "markdown",
   "metadata": {},
   "source": [
    "Output being stored in `opt`, I use the model from the variable, to get `new_model` which could be any Context specific model, based on column which is picked, ie.., epithelial or mesenchymal CSM in my case."
   ]
  },
  {
   "cell_type": "code",
   "execution_count": 10,
   "metadata": {},
   "outputs": [
    {
     "data": {
      "text/html": [
       "\n",
       "        <table>\n",
       "            <tr>\n",
       "                <td><strong>Name</strong></td>\n",
       "                <td>Recon3D</td>\n",
       "            </tr><tr>\n",
       "                <td><strong>Memory address</strong></td>\n",
       "                <td>30144e390</td>\n",
       "            </tr><tr>\n",
       "                <td><strong>Number of metabolites</strong></td>\n",
       "                <td>641</td>\n",
       "            </tr><tr>\n",
       "                <td><strong>Number of reactions</strong></td>\n",
       "                <td>762</td>\n",
       "            </tr><tr>\n",
       "                <td><strong>Number of genes</strong></td>\n",
       "                <td>597</td>\n",
       "            </tr><tr>\n",
       "                <td><strong>Number of groups</strong></td>\n",
       "                <td>0</td>\n",
       "            </tr><tr>\n",
       "                <td><strong>Objective expression</strong></td>\n",
       "                <td>1.0*BIOMASS_maintenance - 1.0*BIOMASS_maintenance_reverse_5b3f9</td>\n",
       "            </tr><tr>\n",
       "                <td><strong>Compartments</strong></td>\n",
       "                <td>cytosol, mitochondria, peroxisome/glyoxysome, extracellular space, lysosome, endoplasmic reticulum, nucleus, inner mitochondrial compartment</td>\n",
       "            </tr>\n",
       "          </table>"
      ],
      "text/plain": [
       "<Model Recon3D at 0x30144e390>"
      ]
     },
     "execution_count": 10,
     "metadata": {},
     "output_type": "execute_result"
    }
   ],
   "source": [
    "new_model = opt.cobra_model(column_name)\n",
    "new_model"
   ]
  },
  {
   "cell_type": "markdown",
   "metadata": {},
   "source": [
    "Stored the model following the standard `SBML` format as `.xml`"
   ]
  },
  {
   "cell_type": "code",
   "execution_count": 12,
   "metadata": {},
   "outputs": [],
   "source": [
    "cobra.io.write_sbml_model(new_model, f\"mesenchymal_fasting_integrated_csm.xml\")"
   ]
  }
 ],
 "metadata": {
  "kernelspec": {
   "display_name": "Python 3",
   "language": "python",
   "name": "python3"
  },
  "language_info": {
   "codemirror_mode": {
    "name": "ipython",
    "version": 3
   },
   "file_extension": ".py",
   "mimetype": "text/x-python",
   "name": "python",
   "nbconvert_exporter": "python",
   "pygments_lexer": "ipython3",
   "version": "3.11.5"
  }
 },
 "nbformat": 4,
 "nbformat_minor": 2
}
